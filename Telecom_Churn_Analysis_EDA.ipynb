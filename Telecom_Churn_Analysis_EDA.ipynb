{
  "nbformat": 4,
  "nbformat_minor": 0,
  "metadata": {
    "colab": {
      "provenance": [],
      "collapsed_sections": [
        "vncDsAP0Gaoa",
        "FJNUwmbgGyua",
        "w6K7xa23Elo4",
        "yQaldy8SH6Dl",
        "PH-0ReGfmX4f",
        "7hBIi_osiCS2",
        "JlHwYmJAmNHm",
        "35m5QtbWiB9F",
        "PoPl-ycgm1ru",
        "H0kj-8xxnORC",
        "nA9Y7ga8ng1Z",
        "PBTbrJXOngz2",
        "u3PMJOP6ngxN",
        "dauF4eBmngu3",
        "bKJF3rekwFvQ",
        "MSa1f5Uengrz",
        "GF8Ens_Soomf",
        "0wOQAZs5pc--",
        "K5QZ13OEpz2H",
        "lQ7QKXXCp7Bj",
        "448CDAPjqfQr",
        "KSlN3yHqYklG",
        "t6dVpIINYklI",
        "ijmpgYnKYklI",
        "-JiQyfWJYklI",
        "EM7whBJCYoAo",
        "fge-S5ZAYoAp",
        "85gYPyotYoAp",
        "RoGjAbkUYoAp",
        "4Of9eVA-YrdM",
        "iky9q4vBYrdO",
        "F6T5p64dYrdO",
        "y-Ehk30pYrdP",
        "bamQiAODYuh1",
        "QHF8YVU7Yuh3",
        "GwzvFGzlYuh3",
        "qYpmQ266Yuh3",
        "OH-pJp9IphqM",
        "bbFf2-_FphqN",
        "_ouA3fa0phqN",
        "Seke61FWphqN",
        "PIIx-8_IphqN",
        "t27r6nlMphqO",
        "r2jJGEOYphqO",
        "b0JNsNcRphqO",
        "BZR9WyysphqO",
        "jj7wYXLtphqO",
        "eZrbJ2SmphqO",
        "rFu4xreNphqO",
        "YJ55k-q6phqO",
        "gCFgpxoyphqP",
        "OVtJsKN_phqQ",
        "lssrdh5qphqQ",
        "NC_X3p0fY2L0",
        "UV0SzAkaZNRQ",
        "YPEH6qLeZNRQ",
        "q29F0dvdveiT",
        "EXh0U9oCveiU",
        "22aHeOlLveiV",
        "JcMwzZxoAimU",
        "8G2x9gOozGDZ",
        "gCX9965dhzqZ",
        "gIfDvo9L0UH2"
      ],
      "include_colab_link": true
    },
    "kernelspec": {
      "name": "python3",
      "display_name": "Python 3"
    },
    "language_info": {
      "name": "python"
    }
  },
  "cells": [
    {
      "cell_type": "markdown",
      "metadata": {
        "id": "view-in-github",
        "colab_type": "text"
      },
      "source": [
        "<a href=\"https://colab.research.google.com/github/Hemant-1Kumar/TelecomChurnAnalysisEDA/blob/main/Telecom_Churn_Analysis_EDA.ipynb\" target=\"_parent\"><img src=\"https://colab.research.google.com/assets/colab-badge.svg\" alt=\"Open In Colab\"/></a>"
      ]
    },
    {
      "cell_type": "markdown",
      "source": [
        "# **Project Name**    -  *Telecom Churn Analysis*\n",
        "\n"
      ],
      "metadata": {
        "id": "vncDsAP0Gaoa"
      }
    },
    {
      "cell_type": "markdown",
      "source": [
        "##### **Project Type**    - EDA\n",
        "##### **Contribution**    - Team\n",
        "##### **Team Member 1 -** Hemant Kumar\n",
        "##### **Team Member 2 -** Abhishek junwal"
      ],
      "metadata": {
        "id": "beRrZCGUAJYm"
      }
    },
    {
      "cell_type": "markdown",
      "source": [
        "# **Project Summary**"
      ],
      "metadata": {
        "id": "FJNUwmbgGyua"
      }
    },
    {
      "cell_type": "markdown",
      "source": [
        "Telecom churn analysis is the process of identifying customers who are likely to cancel their service or switch to a different service provider. This is an important problem for telecom companies, as churn can have a significant impact on their revenue and profitability. Orange Telecom's Churn Dataset consists of cleaned customer activity data and a label specifying whether a customer has churned. The goal of the analysis is to understand the factors that contribute to churn and develop strategies to reduce churn by targeting those factors. The first step in conducting an exploratory data analysis (EDA) for telecom churn analysis is data acquisition, which involves obtaining a representative sample of data from the telecom company including customer demographic information, usage patterns, and churn status. The next step is data cleaning, which involves removing any missing or incomplete data and ensuring that the data is in a format that can be easily analyzed. Data visualization involves using plots and charts to visualize the data and identify trends and patterns, while data summarization involves using statistical techniques to summarize the data and understand the relationships between different variables.\n",
        "\n",
        "To reduce churn and improve customer retention, it is important to take a proactive approach. One effective strategy is to modify the International Plan so that the charges are the same as the normal plan. This will help address any potential dissatisfaction with higher charges for international usage. Communication and asking for feedback often can help to identify and address any issues that may lead to churn. Offering promotions periodically can also help to retain customers, as can focusing on customers experiencing problems in states with high churn rates. Paying attention to your best customers and ensuring they receive the support they need is also important. Regular server maintenance and addressing poor network connectivity issues can also help to reduce churn. Developing a roadmap for onboarding new customers can help to ensure a smooth onboarding process and reduce the likelihood of churn. Analyzing churn when it occurs can provide valuable insights into the factors contributing to churn, which can inform strategies for reducing churn. Finally, it is important to stay competitive by keeping up with industry trends and continuously improving the customer experience.\n",
        "\n",
        "Through EDA of the churn dataset, it was found that the charge fields are directly related to the minute fields, the area code may not be relevant and can be excluded, customers with the International Plan tend to churn more often, customers who have had four or more customer service calls churn significantly more than other customers, customers with high day and evening minute usage tend to churn at a higher rate, and there is no clear relationship between churn and the number of calls made or received. In conclusion, to reduce churn and improve customer retention, telecom companies should focus on modifying the International Plan, being proactive with communication and asking for feedback, offering promotions, focusing on customers experiencing problems in states with high churn rates, paying attention to their best customers, and continuously improving the customer experienc"
      ],
      "metadata": {
        "id": "F6v_1wHtG2nS"
      }
    },
    {
      "cell_type": "markdown",
      "source": [
        "# **GitHub Link -**"
      ],
      "metadata": {
        "id": "w6K7xa23Elo4"
      }
    },
    {
      "cell_type": "markdown",
      "source": [
        " GitHub Link:-https://github.com/Hemant-1Kumar/TelecomChurnAnalysisEDA"
      ],
      "metadata": {
        "id": "h1o69JH3Eqqn"
      }
    },
    {
      "cell_type": "markdown",
      "source": [
        "# **Problem Statement**\n"
      ],
      "metadata": {
        "id": "yQaldy8SH6Dl"
      }
    },
    {
      "cell_type": "markdown",
      "source": [
        "\"Orange S.A., a prominent French multinational telecommunications corporation, is confronted with a critical challenge: customer churn. This issue poses a substantial threat to the company's revenue and profitability. Churn, the process where customers cancel their service or switch to a different provider, has the potential to erode the company's market standing.\n",
        "\n",
        "The Orange Telecom's Churn Dataset offers an opportunity to address this challenge methodically. This dataset comprises meticulously cleaned customer activity data, featuring various attributes, and includes a churn label that indicates whether a customer has canceled their subscription. The primary aim of this analysis is to conduct a comprehensive exploration and examination of this dataset.\n",
        "\n",
        "Our ultimate objective is to uncover the pivotal factors contributing to customer churn within the telecom industry and to formulate effective strategies for customer retention. This multifaceted problem requires a data-driven approach, involving the scrutiny of customer demographics, usage patterns, and service plans to pinpoint the core determinants of churn.\n",
        "\n",
        "Subsequently, we endeavor to craft actionable recommendations to enhance customer loyalty and satisfaction. This entails optimizing operational processes and service offerings to curtail churn rates and establish a sustainable, profitable position for Orange S.A. in the fiercely competitive telecommunications landscape. The success of this endeavor will not only safeguard the company's revenue but also reinforce its market presence and customer relationships.\"\n",
        "\n",
        "\n",
        "\n",
        "\n",
        "\n"
      ],
      "metadata": {
        "id": "DpeJGUA3kjGy"
      }
    },
    {
      "cell_type": "markdown",
      "source": [
        "#### **Define Your Business Objective?**"
      ],
      "metadata": {
        "id": "PH-0ReGfmX4f"
      }
    },
    {
      "cell_type": "markdown",
      "source": [
        "* To identify key factors contributing to customer churn within the telecom industry and develop actionable strategies and recommendations for customer retention. The goal is to reduce churn rates, enhance customer loyalty, and sustain long-term profitability, thereby strengthening Orange S.A.'s competitive position in the telecommunications market.\n",
        "* In essence, the business objective revolves around using data-driven insights from the analysis to create practical and effective retention strategies that will ultimately benefit Orange S.A. by retaining more customers and improving its market standing."
      ],
      "metadata": {
        "id": "PhDvGCAqmjP1"
      }
    },
    {
      "cell_type": "markdown",
      "source": [
        "# ***Let's Begin !***"
      ],
      "metadata": {
        "id": "O_i_v8NEhb9l"
      }
    },
    {
      "cell_type": "markdown",
      "source": [
        "## ***1. Know Your Data***"
      ],
      "metadata": {
        "id": "HhfV-JJviCcP"
      }
    },
    {
      "cell_type": "markdown",
      "source": [
        "### Import Libraries"
      ],
      "metadata": {
        "id": "Y3lxredqlCYt"
      }
    },
    {
      "cell_type": "code",
      "source": [
        "# Import Libraries\n",
        "import pandas as pd\n",
        "import numpy as np\n",
        "\n",
        "# Import Visualization Libraries\n",
        "import seaborn as sns\n",
        "import matplotlib.pyplot as plt\n",
        "%matplotlib inline\n",
        "\n",
        "# Import warnings\n",
        "import warnings\n",
        "warnings.filterwarnings('ignore')"
      ],
      "metadata": {
        "id": "M8Vqi-pPk-HR"
      },
      "execution_count": 5,
      "outputs": []
    },
    {
      "cell_type": "markdown",
      "source": [
        "### Dataset Loading"
      ],
      "metadata": {
        "id": "3RnN4peoiCZX"
      }
    },
    {
      "cell_type": "code",
      "source": [
        "# Load Dataset\n",
        "url='https://github.com/Hemant-1Kumar/TelecomChurnAnalysisEDA/raw/main/Telecom%20Churn.csv'\n",
        "data=pd.read_csv(url)\n"
      ],
      "metadata": {
        "id": "4CkvbW_SlZ_R"
      },
      "execution_count": 6,
      "outputs": []
    },
    {
      "cell_type": "markdown",
      "source": [
        "### Dataset First View"
      ],
      "metadata": {
        "id": "x71ZqKXriCWQ"
      }
    },
    {
      "cell_type": "code",
      "source": [
        "# View top 5 rows of the dataset\n",
        "data.head()"
      ],
      "metadata": {
        "id": "LWNFOSvLl09H",
        "colab": {
          "base_uri": "https://localhost:8080/",
          "height": 241
        },
        "outputId": "45d63f88-9e4f-4fe2-da43-81bf915963de"
      },
      "execution_count": 7,
      "outputs": [
        {
          "output_type": "execute_result",
          "data": {
            "text/plain": [
              "  State  Account length  Area code International plan Voice mail plan  \\\n",
              "0    KS             128        415                 No             Yes   \n",
              "1    OH             107        415                 No             Yes   \n",
              "2    NJ             137        415                 No              No   \n",
              "3    OH              84        408                Yes              No   \n",
              "4    OK              75        415                Yes              No   \n",
              "\n",
              "   Number vmail messages  Total day minutes  Total day calls  \\\n",
              "0                     25              265.1              110   \n",
              "1                     26              161.6              123   \n",
              "2                      0              243.4              114   \n",
              "3                      0              299.4               71   \n",
              "4                      0              166.7              113   \n",
              "\n",
              "   Total day charge  Total eve minutes  Total eve calls  Total eve charge  \\\n",
              "0             45.07              197.4               99             16.78   \n",
              "1             27.47              195.5              103             16.62   \n",
              "2             41.38              121.2              110             10.30   \n",
              "3             50.90               61.9               88              5.26   \n",
              "4             28.34              148.3              122             12.61   \n",
              "\n",
              "   Total night minutes  Total night calls  Total night charge  \\\n",
              "0                244.7                 91               11.01   \n",
              "1                254.4                103               11.45   \n",
              "2                162.6                104                7.32   \n",
              "3                196.9                 89                8.86   \n",
              "4                186.9                121                8.41   \n",
              "\n",
              "   Total intl minutes  Total intl calls  Total intl charge  \\\n",
              "0                10.0                 3               2.70   \n",
              "1                13.7                 3               3.70   \n",
              "2                12.2                 5               3.29   \n",
              "3                 6.6                 7               1.78   \n",
              "4                10.1                 3               2.73   \n",
              "\n",
              "   Customer service calls  Churn  \n",
              "0                       1  False  \n",
              "1                       1  False  \n",
              "2                       0  False  \n",
              "3                       2  False  \n",
              "4                       3  False  "
            ],
            "text/html": [
              "\n",
              "  <div id=\"df-465c2734-64b3-4893-a767-898d10f37856\" class=\"colab-df-container\">\n",
              "    <div>\n",
              "<style scoped>\n",
              "    .dataframe tbody tr th:only-of-type {\n",
              "        vertical-align: middle;\n",
              "    }\n",
              "\n",
              "    .dataframe tbody tr th {\n",
              "        vertical-align: top;\n",
              "    }\n",
              "\n",
              "    .dataframe thead th {\n",
              "        text-align: right;\n",
              "    }\n",
              "</style>\n",
              "<table border=\"1\" class=\"dataframe\">\n",
              "  <thead>\n",
              "    <tr style=\"text-align: right;\">\n",
              "      <th></th>\n",
              "      <th>State</th>\n",
              "      <th>Account length</th>\n",
              "      <th>Area code</th>\n",
              "      <th>International plan</th>\n",
              "      <th>Voice mail plan</th>\n",
              "      <th>Number vmail messages</th>\n",
              "      <th>Total day minutes</th>\n",
              "      <th>Total day calls</th>\n",
              "      <th>Total day charge</th>\n",
              "      <th>Total eve minutes</th>\n",
              "      <th>Total eve calls</th>\n",
              "      <th>Total eve charge</th>\n",
              "      <th>Total night minutes</th>\n",
              "      <th>Total night calls</th>\n",
              "      <th>Total night charge</th>\n",
              "      <th>Total intl minutes</th>\n",
              "      <th>Total intl calls</th>\n",
              "      <th>Total intl charge</th>\n",
              "      <th>Customer service calls</th>\n",
              "      <th>Churn</th>\n",
              "    </tr>\n",
              "  </thead>\n",
              "  <tbody>\n",
              "    <tr>\n",
              "      <th>0</th>\n",
              "      <td>KS</td>\n",
              "      <td>128</td>\n",
              "      <td>415</td>\n",
              "      <td>No</td>\n",
              "      <td>Yes</td>\n",
              "      <td>25</td>\n",
              "      <td>265.1</td>\n",
              "      <td>110</td>\n",
              "      <td>45.07</td>\n",
              "      <td>197.4</td>\n",
              "      <td>99</td>\n",
              "      <td>16.78</td>\n",
              "      <td>244.7</td>\n",
              "      <td>91</td>\n",
              "      <td>11.01</td>\n",
              "      <td>10.0</td>\n",
              "      <td>3</td>\n",
              "      <td>2.70</td>\n",
              "      <td>1</td>\n",
              "      <td>False</td>\n",
              "    </tr>\n",
              "    <tr>\n",
              "      <th>1</th>\n",
              "      <td>OH</td>\n",
              "      <td>107</td>\n",
              "      <td>415</td>\n",
              "      <td>No</td>\n",
              "      <td>Yes</td>\n",
              "      <td>26</td>\n",
              "      <td>161.6</td>\n",
              "      <td>123</td>\n",
              "      <td>27.47</td>\n",
              "      <td>195.5</td>\n",
              "      <td>103</td>\n",
              "      <td>16.62</td>\n",
              "      <td>254.4</td>\n",
              "      <td>103</td>\n",
              "      <td>11.45</td>\n",
              "      <td>13.7</td>\n",
              "      <td>3</td>\n",
              "      <td>3.70</td>\n",
              "      <td>1</td>\n",
              "      <td>False</td>\n",
              "    </tr>\n",
              "    <tr>\n",
              "      <th>2</th>\n",
              "      <td>NJ</td>\n",
              "      <td>137</td>\n",
              "      <td>415</td>\n",
              "      <td>No</td>\n",
              "      <td>No</td>\n",
              "      <td>0</td>\n",
              "      <td>243.4</td>\n",
              "      <td>114</td>\n",
              "      <td>41.38</td>\n",
              "      <td>121.2</td>\n",
              "      <td>110</td>\n",
              "      <td>10.30</td>\n",
              "      <td>162.6</td>\n",
              "      <td>104</td>\n",
              "      <td>7.32</td>\n",
              "      <td>12.2</td>\n",
              "      <td>5</td>\n",
              "      <td>3.29</td>\n",
              "      <td>0</td>\n",
              "      <td>False</td>\n",
              "    </tr>\n",
              "    <tr>\n",
              "      <th>3</th>\n",
              "      <td>OH</td>\n",
              "      <td>84</td>\n",
              "      <td>408</td>\n",
              "      <td>Yes</td>\n",
              "      <td>No</td>\n",
              "      <td>0</td>\n",
              "      <td>299.4</td>\n",
              "      <td>71</td>\n",
              "      <td>50.90</td>\n",
              "      <td>61.9</td>\n",
              "      <td>88</td>\n",
              "      <td>5.26</td>\n",
              "      <td>196.9</td>\n",
              "      <td>89</td>\n",
              "      <td>8.86</td>\n",
              "      <td>6.6</td>\n",
              "      <td>7</td>\n",
              "      <td>1.78</td>\n",
              "      <td>2</td>\n",
              "      <td>False</td>\n",
              "    </tr>\n",
              "    <tr>\n",
              "      <th>4</th>\n",
              "      <td>OK</td>\n",
              "      <td>75</td>\n",
              "      <td>415</td>\n",
              "      <td>Yes</td>\n",
              "      <td>No</td>\n",
              "      <td>0</td>\n",
              "      <td>166.7</td>\n",
              "      <td>113</td>\n",
              "      <td>28.34</td>\n",
              "      <td>148.3</td>\n",
              "      <td>122</td>\n",
              "      <td>12.61</td>\n",
              "      <td>186.9</td>\n",
              "      <td>121</td>\n",
              "      <td>8.41</td>\n",
              "      <td>10.1</td>\n",
              "      <td>3</td>\n",
              "      <td>2.73</td>\n",
              "      <td>3</td>\n",
              "      <td>False</td>\n",
              "    </tr>\n",
              "  </tbody>\n",
              "</table>\n",
              "</div>\n",
              "    <div class=\"colab-df-buttons\">\n",
              "\n",
              "  <div class=\"colab-df-container\">\n",
              "    <button class=\"colab-df-convert\" onclick=\"convertToInteractive('df-465c2734-64b3-4893-a767-898d10f37856')\"\n",
              "            title=\"Convert this dataframe to an interactive table.\"\n",
              "            style=\"display:none;\">\n",
              "\n",
              "  <svg xmlns=\"http://www.w3.org/2000/svg\" height=\"24px\" viewBox=\"0 -960 960 960\">\n",
              "    <path d=\"M120-120v-720h720v720H120Zm60-500h600v-160H180v160Zm220 220h160v-160H400v160Zm0 220h160v-160H400v160ZM180-400h160v-160H180v160Zm440 0h160v-160H620v160ZM180-180h160v-160H180v160Zm440 0h160v-160H620v160Z\"/>\n",
              "  </svg>\n",
              "    </button>\n",
              "\n",
              "  <style>\n",
              "    .colab-df-container {\n",
              "      display:flex;\n",
              "      gap: 12px;\n",
              "    }\n",
              "\n",
              "    .colab-df-convert {\n",
              "      background-color: #E8F0FE;\n",
              "      border: none;\n",
              "      border-radius: 50%;\n",
              "      cursor: pointer;\n",
              "      display: none;\n",
              "      fill: #1967D2;\n",
              "      height: 32px;\n",
              "      padding: 0 0 0 0;\n",
              "      width: 32px;\n",
              "    }\n",
              "\n",
              "    .colab-df-convert:hover {\n",
              "      background-color: #E2EBFA;\n",
              "      box-shadow: 0px 1px 2px rgba(60, 64, 67, 0.3), 0px 1px 3px 1px rgba(60, 64, 67, 0.15);\n",
              "      fill: #174EA6;\n",
              "    }\n",
              "\n",
              "    .colab-df-buttons div {\n",
              "      margin-bottom: 4px;\n",
              "    }\n",
              "\n",
              "    [theme=dark] .colab-df-convert {\n",
              "      background-color: #3B4455;\n",
              "      fill: #D2E3FC;\n",
              "    }\n",
              "\n",
              "    [theme=dark] .colab-df-convert:hover {\n",
              "      background-color: #434B5C;\n",
              "      box-shadow: 0px 1px 3px 1px rgba(0, 0, 0, 0.15);\n",
              "      filter: drop-shadow(0px 1px 2px rgba(0, 0, 0, 0.3));\n",
              "      fill: #FFFFFF;\n",
              "    }\n",
              "  </style>\n",
              "\n",
              "    <script>\n",
              "      const buttonEl =\n",
              "        document.querySelector('#df-465c2734-64b3-4893-a767-898d10f37856 button.colab-df-convert');\n",
              "      buttonEl.style.display =\n",
              "        google.colab.kernel.accessAllowed ? 'block' : 'none';\n",
              "\n",
              "      async function convertToInteractive(key) {\n",
              "        const element = document.querySelector('#df-465c2734-64b3-4893-a767-898d10f37856');\n",
              "        const dataTable =\n",
              "          await google.colab.kernel.invokeFunction('convertToInteractive',\n",
              "                                                    [key], {});\n",
              "        if (!dataTable) return;\n",
              "\n",
              "        const docLinkHtml = 'Like what you see? Visit the ' +\n",
              "          '<a target=\"_blank\" href=https://colab.research.google.com/notebooks/data_table.ipynb>data table notebook</a>'\n",
              "          + ' to learn more about interactive tables.';\n",
              "        element.innerHTML = '';\n",
              "        dataTable['output_type'] = 'display_data';\n",
              "        await google.colab.output.renderOutput(dataTable, element);\n",
              "        const docLink = document.createElement('div');\n",
              "        docLink.innerHTML = docLinkHtml;\n",
              "        element.appendChild(docLink);\n",
              "      }\n",
              "    </script>\n",
              "  </div>\n",
              "\n",
              "\n",
              "<div id=\"df-3fa76a4b-a835-40dc-8cd1-a3a52b3ce6d8\">\n",
              "  <button class=\"colab-df-quickchart\" onclick=\"quickchart('df-3fa76a4b-a835-40dc-8cd1-a3a52b3ce6d8')\"\n",
              "            title=\"Suggest charts.\"\n",
              "            style=\"display:none;\">\n",
              "\n",
              "<svg xmlns=\"http://www.w3.org/2000/svg\" height=\"24px\"viewBox=\"0 0 24 24\"\n",
              "     width=\"24px\">\n",
              "    <g>\n",
              "        <path d=\"M19 3H5c-1.1 0-2 .9-2 2v14c0 1.1.9 2 2 2h14c1.1 0 2-.9 2-2V5c0-1.1-.9-2-2-2zM9 17H7v-7h2v7zm4 0h-2V7h2v10zm4 0h-2v-4h2v4z\"/>\n",
              "    </g>\n",
              "</svg>\n",
              "  </button>\n",
              "\n",
              "<style>\n",
              "  .colab-df-quickchart {\n",
              "      --bg-color: #E8F0FE;\n",
              "      --fill-color: #1967D2;\n",
              "      --hover-bg-color: #E2EBFA;\n",
              "      --hover-fill-color: #174EA6;\n",
              "      --disabled-fill-color: #AAA;\n",
              "      --disabled-bg-color: #DDD;\n",
              "  }\n",
              "\n",
              "  [theme=dark] .colab-df-quickchart {\n",
              "      --bg-color: #3B4455;\n",
              "      --fill-color: #D2E3FC;\n",
              "      --hover-bg-color: #434B5C;\n",
              "      --hover-fill-color: #FFFFFF;\n",
              "      --disabled-bg-color: #3B4455;\n",
              "      --disabled-fill-color: #666;\n",
              "  }\n",
              "\n",
              "  .colab-df-quickchart {\n",
              "    background-color: var(--bg-color);\n",
              "    border: none;\n",
              "    border-radius: 50%;\n",
              "    cursor: pointer;\n",
              "    display: none;\n",
              "    fill: var(--fill-color);\n",
              "    height: 32px;\n",
              "    padding: 0;\n",
              "    width: 32px;\n",
              "  }\n",
              "\n",
              "  .colab-df-quickchart:hover {\n",
              "    background-color: var(--hover-bg-color);\n",
              "    box-shadow: 0 1px 2px rgba(60, 64, 67, 0.3), 0 1px 3px 1px rgba(60, 64, 67, 0.15);\n",
              "    fill: var(--button-hover-fill-color);\n",
              "  }\n",
              "\n",
              "  .colab-df-quickchart-complete:disabled,\n",
              "  .colab-df-quickchart-complete:disabled:hover {\n",
              "    background-color: var(--disabled-bg-color);\n",
              "    fill: var(--disabled-fill-color);\n",
              "    box-shadow: none;\n",
              "  }\n",
              "\n",
              "  .colab-df-spinner {\n",
              "    border: 2px solid var(--fill-color);\n",
              "    border-color: transparent;\n",
              "    border-bottom-color: var(--fill-color);\n",
              "    animation:\n",
              "      spin 1s steps(1) infinite;\n",
              "  }\n",
              "\n",
              "  @keyframes spin {\n",
              "    0% {\n",
              "      border-color: transparent;\n",
              "      border-bottom-color: var(--fill-color);\n",
              "      border-left-color: var(--fill-color);\n",
              "    }\n",
              "    20% {\n",
              "      border-color: transparent;\n",
              "      border-left-color: var(--fill-color);\n",
              "      border-top-color: var(--fill-color);\n",
              "    }\n",
              "    30% {\n",
              "      border-color: transparent;\n",
              "      border-left-color: var(--fill-color);\n",
              "      border-top-color: var(--fill-color);\n",
              "      border-right-color: var(--fill-color);\n",
              "    }\n",
              "    40% {\n",
              "      border-color: transparent;\n",
              "      border-right-color: var(--fill-color);\n",
              "      border-top-color: var(--fill-color);\n",
              "    }\n",
              "    60% {\n",
              "      border-color: transparent;\n",
              "      border-right-color: var(--fill-color);\n",
              "    }\n",
              "    80% {\n",
              "      border-color: transparent;\n",
              "      border-right-color: var(--fill-color);\n",
              "      border-bottom-color: var(--fill-color);\n",
              "    }\n",
              "    90% {\n",
              "      border-color: transparent;\n",
              "      border-bottom-color: var(--fill-color);\n",
              "    }\n",
              "  }\n",
              "</style>\n",
              "\n",
              "  <script>\n",
              "    async function quickchart(key) {\n",
              "      const quickchartButtonEl =\n",
              "        document.querySelector('#' + key + ' button');\n",
              "      quickchartButtonEl.disabled = true;  // To prevent multiple clicks.\n",
              "      quickchartButtonEl.classList.add('colab-df-spinner');\n",
              "      try {\n",
              "        const charts = await google.colab.kernel.invokeFunction(\n",
              "            'suggestCharts', [key], {});\n",
              "      } catch (error) {\n",
              "        console.error('Error during call to suggestCharts:', error);\n",
              "      }\n",
              "      quickchartButtonEl.classList.remove('colab-df-spinner');\n",
              "      quickchartButtonEl.classList.add('colab-df-quickchart-complete');\n",
              "    }\n",
              "    (() => {\n",
              "      let quickchartButtonEl =\n",
              "        document.querySelector('#df-3fa76a4b-a835-40dc-8cd1-a3a52b3ce6d8 button');\n",
              "      quickchartButtonEl.style.display =\n",
              "        google.colab.kernel.accessAllowed ? 'block' : 'none';\n",
              "    })();\n",
              "  </script>\n",
              "</div>\n",
              "    </div>\n",
              "  </div>\n"
            ]
          },
          "metadata": {},
          "execution_count": 7
        }
      ]
    },
    {
      "cell_type": "code",
      "source": [
        "# View last 5 rows of the dataset\n",
        "data.tail()"
      ],
      "metadata": {
        "id": "nDaT5cD01vy5",
        "colab": {
          "base_uri": "https://localhost:8080/",
          "height": 241
        },
        "outputId": "77a568d6-7c4a-4801-a045-816191067c4c"
      },
      "execution_count": null,
      "outputs": [
        {
          "output_type": "execute_result",
          "data": {
            "text/plain": [
              "     State  Account length  Area code International plan Voice mail plan  \\\n",
              "3328    AZ             192        415                 No             Yes   \n",
              "3329    WV              68        415                 No              No   \n",
              "3330    RI              28        510                 No              No   \n",
              "3331    CT             184        510                Yes              No   \n",
              "3332    TN              74        415                 No             Yes   \n",
              "\n",
              "      Number vmail messages  Total day minutes  Total day calls  \\\n",
              "3328                     36              156.2               77   \n",
              "3329                      0              231.1               57   \n",
              "3330                      0              180.8              109   \n",
              "3331                      0              213.8              105   \n",
              "3332                     25              234.4              113   \n",
              "\n",
              "      Total day charge  Total eve minutes  Total eve calls  Total eve charge  \\\n",
              "3328             26.55              215.5              126             18.32   \n",
              "3329             39.29              153.4               55             13.04   \n",
              "3330             30.74              288.8               58             24.55   \n",
              "3331             36.35              159.6               84             13.57   \n",
              "3332             39.85              265.9               82             22.60   \n",
              "\n",
              "      Total night minutes  Total night calls  Total night charge  \\\n",
              "3328                279.1                 83               12.56   \n",
              "3329                191.3                123                8.61   \n",
              "3330                191.9                 91                8.64   \n",
              "3331                139.2                137                6.26   \n",
              "3332                241.4                 77               10.86   \n",
              "\n",
              "      Total intl minutes  Total intl calls  Total intl charge  \\\n",
              "3328                 9.9                 6               2.67   \n",
              "3329                 9.6                 4               2.59   \n",
              "3330                14.1                 6               3.81   \n",
              "3331                 5.0                10               1.35   \n",
              "3332                13.7                 4               3.70   \n",
              "\n",
              "      Customer service calls  Churn  \n",
              "3328                       2  False  \n",
              "3329                       3  False  \n",
              "3330                       2  False  \n",
              "3331                       2  False  \n",
              "3332                       0  False  "
            ],
            "text/html": [
              "\n",
              "  <div id=\"df-4929d9cc-b6d3-4243-9405-8efee806aec4\" class=\"colab-df-container\">\n",
              "    <div>\n",
              "<style scoped>\n",
              "    .dataframe tbody tr th:only-of-type {\n",
              "        vertical-align: middle;\n",
              "    }\n",
              "\n",
              "    .dataframe tbody tr th {\n",
              "        vertical-align: top;\n",
              "    }\n",
              "\n",
              "    .dataframe thead th {\n",
              "        text-align: right;\n",
              "    }\n",
              "</style>\n",
              "<table border=\"1\" class=\"dataframe\">\n",
              "  <thead>\n",
              "    <tr style=\"text-align: right;\">\n",
              "      <th></th>\n",
              "      <th>State</th>\n",
              "      <th>Account length</th>\n",
              "      <th>Area code</th>\n",
              "      <th>International plan</th>\n",
              "      <th>Voice mail plan</th>\n",
              "      <th>Number vmail messages</th>\n",
              "      <th>Total day minutes</th>\n",
              "      <th>Total day calls</th>\n",
              "      <th>Total day charge</th>\n",
              "      <th>Total eve minutes</th>\n",
              "      <th>Total eve calls</th>\n",
              "      <th>Total eve charge</th>\n",
              "      <th>Total night minutes</th>\n",
              "      <th>Total night calls</th>\n",
              "      <th>Total night charge</th>\n",
              "      <th>Total intl minutes</th>\n",
              "      <th>Total intl calls</th>\n",
              "      <th>Total intl charge</th>\n",
              "      <th>Customer service calls</th>\n",
              "      <th>Churn</th>\n",
              "    </tr>\n",
              "  </thead>\n",
              "  <tbody>\n",
              "    <tr>\n",
              "      <th>3328</th>\n",
              "      <td>AZ</td>\n",
              "      <td>192</td>\n",
              "      <td>415</td>\n",
              "      <td>No</td>\n",
              "      <td>Yes</td>\n",
              "      <td>36</td>\n",
              "      <td>156.2</td>\n",
              "      <td>77</td>\n",
              "      <td>26.55</td>\n",
              "      <td>215.5</td>\n",
              "      <td>126</td>\n",
              "      <td>18.32</td>\n",
              "      <td>279.1</td>\n",
              "      <td>83</td>\n",
              "      <td>12.56</td>\n",
              "      <td>9.9</td>\n",
              "      <td>6</td>\n",
              "      <td>2.67</td>\n",
              "      <td>2</td>\n",
              "      <td>False</td>\n",
              "    </tr>\n",
              "    <tr>\n",
              "      <th>3329</th>\n",
              "      <td>WV</td>\n",
              "      <td>68</td>\n",
              "      <td>415</td>\n",
              "      <td>No</td>\n",
              "      <td>No</td>\n",
              "      <td>0</td>\n",
              "      <td>231.1</td>\n",
              "      <td>57</td>\n",
              "      <td>39.29</td>\n",
              "      <td>153.4</td>\n",
              "      <td>55</td>\n",
              "      <td>13.04</td>\n",
              "      <td>191.3</td>\n",
              "      <td>123</td>\n",
              "      <td>8.61</td>\n",
              "      <td>9.6</td>\n",
              "      <td>4</td>\n",
              "      <td>2.59</td>\n",
              "      <td>3</td>\n",
              "      <td>False</td>\n",
              "    </tr>\n",
              "    <tr>\n",
              "      <th>3330</th>\n",
              "      <td>RI</td>\n",
              "      <td>28</td>\n",
              "      <td>510</td>\n",
              "      <td>No</td>\n",
              "      <td>No</td>\n",
              "      <td>0</td>\n",
              "      <td>180.8</td>\n",
              "      <td>109</td>\n",
              "      <td>30.74</td>\n",
              "      <td>288.8</td>\n",
              "      <td>58</td>\n",
              "      <td>24.55</td>\n",
              "      <td>191.9</td>\n",
              "      <td>91</td>\n",
              "      <td>8.64</td>\n",
              "      <td>14.1</td>\n",
              "      <td>6</td>\n",
              "      <td>3.81</td>\n",
              "      <td>2</td>\n",
              "      <td>False</td>\n",
              "    </tr>\n",
              "    <tr>\n",
              "      <th>3331</th>\n",
              "      <td>CT</td>\n",
              "      <td>184</td>\n",
              "      <td>510</td>\n",
              "      <td>Yes</td>\n",
              "      <td>No</td>\n",
              "      <td>0</td>\n",
              "      <td>213.8</td>\n",
              "      <td>105</td>\n",
              "      <td>36.35</td>\n",
              "      <td>159.6</td>\n",
              "      <td>84</td>\n",
              "      <td>13.57</td>\n",
              "      <td>139.2</td>\n",
              "      <td>137</td>\n",
              "      <td>6.26</td>\n",
              "      <td>5.0</td>\n",
              "      <td>10</td>\n",
              "      <td>1.35</td>\n",
              "      <td>2</td>\n",
              "      <td>False</td>\n",
              "    </tr>\n",
              "    <tr>\n",
              "      <th>3332</th>\n",
              "      <td>TN</td>\n",
              "      <td>74</td>\n",
              "      <td>415</td>\n",
              "      <td>No</td>\n",
              "      <td>Yes</td>\n",
              "      <td>25</td>\n",
              "      <td>234.4</td>\n",
              "      <td>113</td>\n",
              "      <td>39.85</td>\n",
              "      <td>265.9</td>\n",
              "      <td>82</td>\n",
              "      <td>22.60</td>\n",
              "      <td>241.4</td>\n",
              "      <td>77</td>\n",
              "      <td>10.86</td>\n",
              "      <td>13.7</td>\n",
              "      <td>4</td>\n",
              "      <td>3.70</td>\n",
              "      <td>0</td>\n",
              "      <td>False</td>\n",
              "    </tr>\n",
              "  </tbody>\n",
              "</table>\n",
              "</div>\n",
              "    <div class=\"colab-df-buttons\">\n",
              "\n",
              "  <div class=\"colab-df-container\">\n",
              "    <button class=\"colab-df-convert\" onclick=\"convertToInteractive('df-4929d9cc-b6d3-4243-9405-8efee806aec4')\"\n",
              "            title=\"Convert this dataframe to an interactive table.\"\n",
              "            style=\"display:none;\">\n",
              "\n",
              "  <svg xmlns=\"http://www.w3.org/2000/svg\" height=\"24px\" viewBox=\"0 -960 960 960\">\n",
              "    <path d=\"M120-120v-720h720v720H120Zm60-500h600v-160H180v160Zm220 220h160v-160H400v160Zm0 220h160v-160H400v160ZM180-400h160v-160H180v160Zm440 0h160v-160H620v160ZM180-180h160v-160H180v160Zm440 0h160v-160H620v160Z\"/>\n",
              "  </svg>\n",
              "    </button>\n",
              "\n",
              "  <style>\n",
              "    .colab-df-container {\n",
              "      display:flex;\n",
              "      gap: 12px;\n",
              "    }\n",
              "\n",
              "    .colab-df-convert {\n",
              "      background-color: #E8F0FE;\n",
              "      border: none;\n",
              "      border-radius: 50%;\n",
              "      cursor: pointer;\n",
              "      display: none;\n",
              "      fill: #1967D2;\n",
              "      height: 32px;\n",
              "      padding: 0 0 0 0;\n",
              "      width: 32px;\n",
              "    }\n",
              "\n",
              "    .colab-df-convert:hover {\n",
              "      background-color: #E2EBFA;\n",
              "      box-shadow: 0px 1px 2px rgba(60, 64, 67, 0.3), 0px 1px 3px 1px rgba(60, 64, 67, 0.15);\n",
              "      fill: #174EA6;\n",
              "    }\n",
              "\n",
              "    .colab-df-buttons div {\n",
              "      margin-bottom: 4px;\n",
              "    }\n",
              "\n",
              "    [theme=dark] .colab-df-convert {\n",
              "      background-color: #3B4455;\n",
              "      fill: #D2E3FC;\n",
              "    }\n",
              "\n",
              "    [theme=dark] .colab-df-convert:hover {\n",
              "      background-color: #434B5C;\n",
              "      box-shadow: 0px 1px 3px 1px rgba(0, 0, 0, 0.15);\n",
              "      filter: drop-shadow(0px 1px 2px rgba(0, 0, 0, 0.3));\n",
              "      fill: #FFFFFF;\n",
              "    }\n",
              "  </style>\n",
              "\n",
              "    <script>\n",
              "      const buttonEl =\n",
              "        document.querySelector('#df-4929d9cc-b6d3-4243-9405-8efee806aec4 button.colab-df-convert');\n",
              "      buttonEl.style.display =\n",
              "        google.colab.kernel.accessAllowed ? 'block' : 'none';\n",
              "\n",
              "      async function convertToInteractive(key) {\n",
              "        const element = document.querySelector('#df-4929d9cc-b6d3-4243-9405-8efee806aec4');\n",
              "        const dataTable =\n",
              "          await google.colab.kernel.invokeFunction('convertToInteractive',\n",
              "                                                    [key], {});\n",
              "        if (!dataTable) return;\n",
              "\n",
              "        const docLinkHtml = 'Like what you see? Visit the ' +\n",
              "          '<a target=\"_blank\" href=https://colab.research.google.com/notebooks/data_table.ipynb>data table notebook</a>'\n",
              "          + ' to learn more about interactive tables.';\n",
              "        element.innerHTML = '';\n",
              "        dataTable['output_type'] = 'display_data';\n",
              "        await google.colab.output.renderOutput(dataTable, element);\n",
              "        const docLink = document.createElement('div');\n",
              "        docLink.innerHTML = docLinkHtml;\n",
              "        element.appendChild(docLink);\n",
              "      }\n",
              "    </script>\n",
              "  </div>\n",
              "\n",
              "\n",
              "<div id=\"df-df1e8acb-9225-4a76-bb18-eafcd4df3cf0\">\n",
              "  <button class=\"colab-df-quickchart\" onclick=\"quickchart('df-df1e8acb-9225-4a76-bb18-eafcd4df3cf0')\"\n",
              "            title=\"Suggest charts.\"\n",
              "            style=\"display:none;\">\n",
              "\n",
              "<svg xmlns=\"http://www.w3.org/2000/svg\" height=\"24px\"viewBox=\"0 0 24 24\"\n",
              "     width=\"24px\">\n",
              "    <g>\n",
              "        <path d=\"M19 3H5c-1.1 0-2 .9-2 2v14c0 1.1.9 2 2 2h14c1.1 0 2-.9 2-2V5c0-1.1-.9-2-2-2zM9 17H7v-7h2v7zm4 0h-2V7h2v10zm4 0h-2v-4h2v4z\"/>\n",
              "    </g>\n",
              "</svg>\n",
              "  </button>\n",
              "\n",
              "<style>\n",
              "  .colab-df-quickchart {\n",
              "      --bg-color: #E8F0FE;\n",
              "      --fill-color: #1967D2;\n",
              "      --hover-bg-color: #E2EBFA;\n",
              "      --hover-fill-color: #174EA6;\n",
              "      --disabled-fill-color: #AAA;\n",
              "      --disabled-bg-color: #DDD;\n",
              "  }\n",
              "\n",
              "  [theme=dark] .colab-df-quickchart {\n",
              "      --bg-color: #3B4455;\n",
              "      --fill-color: #D2E3FC;\n",
              "      --hover-bg-color: #434B5C;\n",
              "      --hover-fill-color: #FFFFFF;\n",
              "      --disabled-bg-color: #3B4455;\n",
              "      --disabled-fill-color: #666;\n",
              "  }\n",
              "\n",
              "  .colab-df-quickchart {\n",
              "    background-color: var(--bg-color);\n",
              "    border: none;\n",
              "    border-radius: 50%;\n",
              "    cursor: pointer;\n",
              "    display: none;\n",
              "    fill: var(--fill-color);\n",
              "    height: 32px;\n",
              "    padding: 0;\n",
              "    width: 32px;\n",
              "  }\n",
              "\n",
              "  .colab-df-quickchart:hover {\n",
              "    background-color: var(--hover-bg-color);\n",
              "    box-shadow: 0 1px 2px rgba(60, 64, 67, 0.3), 0 1px 3px 1px rgba(60, 64, 67, 0.15);\n",
              "    fill: var(--button-hover-fill-color);\n",
              "  }\n",
              "\n",
              "  .colab-df-quickchart-complete:disabled,\n",
              "  .colab-df-quickchart-complete:disabled:hover {\n",
              "    background-color: var(--disabled-bg-color);\n",
              "    fill: var(--disabled-fill-color);\n",
              "    box-shadow: none;\n",
              "  }\n",
              "\n",
              "  .colab-df-spinner {\n",
              "    border: 2px solid var(--fill-color);\n",
              "    border-color: transparent;\n",
              "    border-bottom-color: var(--fill-color);\n",
              "    animation:\n",
              "      spin 1s steps(1) infinite;\n",
              "  }\n",
              "\n",
              "  @keyframes spin {\n",
              "    0% {\n",
              "      border-color: transparent;\n",
              "      border-bottom-color: var(--fill-color);\n",
              "      border-left-color: var(--fill-color);\n",
              "    }\n",
              "    20% {\n",
              "      border-color: transparent;\n",
              "      border-left-color: var(--fill-color);\n",
              "      border-top-color: var(--fill-color);\n",
              "    }\n",
              "    30% {\n",
              "      border-color: transparent;\n",
              "      border-left-color: var(--fill-color);\n",
              "      border-top-color: var(--fill-color);\n",
              "      border-right-color: var(--fill-color);\n",
              "    }\n",
              "    40% {\n",
              "      border-color: transparent;\n",
              "      border-right-color: var(--fill-color);\n",
              "      border-top-color: var(--fill-color);\n",
              "    }\n",
              "    60% {\n",
              "      border-color: transparent;\n",
              "      border-right-color: var(--fill-color);\n",
              "    }\n",
              "    80% {\n",
              "      border-color: transparent;\n",
              "      border-right-color: var(--fill-color);\n",
              "      border-bottom-color: var(--fill-color);\n",
              "    }\n",
              "    90% {\n",
              "      border-color: transparent;\n",
              "      border-bottom-color: var(--fill-color);\n",
              "    }\n",
              "  }\n",
              "</style>\n",
              "\n",
              "  <script>\n",
              "    async function quickchart(key) {\n",
              "      const quickchartButtonEl =\n",
              "        document.querySelector('#' + key + ' button');\n",
              "      quickchartButtonEl.disabled = true;  // To prevent multiple clicks.\n",
              "      quickchartButtonEl.classList.add('colab-df-spinner');\n",
              "      try {\n",
              "        const charts = await google.colab.kernel.invokeFunction(\n",
              "            'suggestCharts', [key], {});\n",
              "      } catch (error) {\n",
              "        console.error('Error during call to suggestCharts:', error);\n",
              "      }\n",
              "      quickchartButtonEl.classList.remove('colab-df-spinner');\n",
              "      quickchartButtonEl.classList.add('colab-df-quickchart-complete');\n",
              "    }\n",
              "    (() => {\n",
              "      let quickchartButtonEl =\n",
              "        document.querySelector('#df-df1e8acb-9225-4a76-bb18-eafcd4df3cf0 button');\n",
              "      quickchartButtonEl.style.display =\n",
              "        google.colab.kernel.accessAllowed ? 'block' : 'none';\n",
              "    })();\n",
              "  </script>\n",
              "</div>\n",
              "    </div>\n",
              "  </div>\n"
            ]
          },
          "metadata": {},
          "execution_count": 4
        }
      ]
    },
    {
      "cell_type": "markdown",
      "source": [
        "### Dataset Rows & Columns count"
      ],
      "metadata": {
        "id": "7hBIi_osiCS2"
      }
    },
    {
      "cell_type": "code",
      "source": [
        "# Checking number of rows and columns of the dataset using shape\n",
        "print(\"Number of rows are: \",data.shape[0])\n",
        "print(\"Number of columns are: \",data.shape[1])"
      ],
      "metadata": {
        "id": "Kllu7SJgmLij"
      },
      "execution_count": null,
      "outputs": []
    },
    {
      "cell_type": "markdown",
      "source": [
        "### Dataset Information"
      ],
      "metadata": {
        "id": "JlHwYmJAmNHm"
      }
    },
    {
      "cell_type": "code",
      "source": [
        "# Dataset Info\n",
        "data.info()"
      ],
      "metadata": {
        "id": "e9hRXRi6meOf"
      },
      "execution_count": null,
      "outputs": []
    },
    {
      "cell_type": "markdown",
      "source": [
        "#### Duplicate Values"
      ],
      "metadata": {
        "id": "35m5QtbWiB9F"
      }
    },
    {
      "cell_type": "code",
      "source": [
        "# Dataset Duplicate Value Count\n",
        "data.duplicated().sum()"
      ],
      "metadata": {
        "id": "1sLdpKYkmox0"
      },
      "execution_count": null,
      "outputs": []
    },
    {
      "cell_type": "markdown",
      "source": [
        "there are no duplicate Values"
      ],
      "metadata": {
        "id": "-u7jjfok2baY"
      }
    },
    {
      "cell_type": "markdown",
      "source": [
        "#### Missing Values/Null Values"
      ],
      "metadata": {
        "id": "PoPl-ycgm1ru"
      }
    },
    {
      "cell_type": "code",
      "source": [
        "# Missing Values/Null Values Count\n",
        "data.isnull().sum()"
      ],
      "metadata": {
        "id": "GgHWkxvamxVg"
      },
      "execution_count": null,
      "outputs": []
    },
    {
      "cell_type": "code",
      "source": [
        "# Visualizing the missing values\n",
        "# Checking Null Value by plotting Heatmap\n",
        "sns.heatmap(data.isnull(), cbar=False)\n"
      ],
      "metadata": {
        "id": "3q5wnI3om9sJ"
      },
      "execution_count": null,
      "outputs": []
    },
    {
      "cell_type": "markdown",
      "source": [
        "### What did you know about your dataset?"
      ],
      "metadata": {
        "id": "H0kj-8xxnORC"
      }
    },
    {
      "cell_type": "markdown",
      "source": [
        "In this dataset from the telecom industry, we have a total of 3333 rows and 20 feature columns, making it a relatively large and comprehensive dataset. Notably, there are ***no missing values*** or ***duplicate entries***, ensuring the data's integrity and reliability for analysis. There is threat to the company when customer churn happens. We have to analyze the customer churn and insights of it. And determine why the customer churn is happening."
      ],
      "metadata": {
        "id": "gfoNAAC-nUe_"
      }
    },
    {
      "cell_type": "markdown",
      "source": [
        "## ***2. Understanding Your Variables***"
      ],
      "metadata": {
        "id": "nA9Y7ga8ng1Z"
      }
    },
    {
      "cell_type": "code",
      "source": [
        "# Dataset Columns\n",
        "data.columns"
      ],
      "metadata": {
        "id": "j7xfkqrt5Ag5"
      },
      "execution_count": null,
      "outputs": []
    },
    {
      "cell_type": "code",
      "source": [
        "# Dataset Describe\n",
        "data.describe(include= 'all').round(2)\n"
      ],
      "metadata": {
        "id": "DnOaZdaE5Q5t"
      },
      "execution_count": null,
      "outputs": []
    },
    {
      "cell_type": "markdown",
      "source": [
        "### Variables Description"
      ],
      "metadata": {
        "id": "PBTbrJXOngz2"
      }
    },
    {
      "cell_type": "markdown",
      "source": [
        "State : Categorica for the 50 states and capital DC.\n",
        "\n",
        "Account Length : Number of days account has been active.\n",
        "\n",
        "Area Code : Code Number of Area having some States included in each area code.\n",
        "\n",
        "lnternational Plan : International Plan activated ( yes, no )\n",
        "\n",
        "Voice Mail Plan : Voice Mail Plan activated ( yes ,no )\n",
        "\n",
        "Voice Mail Message : Count of vmail messages sent.\n",
        "\n",
        "Day Minutes : Total minutes uesd during day time\n",
        "\n",
        "Day calls : Total number of calls during day time\n",
        "\n",
        "Day Charge : Total charge during day time\n",
        "\n",
        "Evening Minutes : Total minutes used during evening time\n",
        "\n",
        "Evening Calls : Total number of calls during evening time\n",
        "\n",
        "Evening Charge : Total charge during evening time\n",
        "\n",
        "Night Minutes : Total minutes used during night time\n",
        "\n",
        "Night Calls : Total number of calls during night time\n",
        "\n",
        "Night Charge : Total charge during night time\n",
        "\n",
        "International Minutes : Total minutes used of international call\n",
        "\n",
        "International Calls : Total number of international calls\n",
        "\n",
        "International Charge : Total charge of international calls\n",
        "\n",
        "Customer Service calls : Number of calls to customer service\n",
        "\n",
        "Churn :Customer churn (Target Variable True=1, False=0)"
      ],
      "metadata": {
        "id": "aJV4KIxSnxay"
      }
    },
    {
      "cell_type": "markdown",
      "source": [
        "### Check Unique Values for each variable."
      ],
      "metadata": {
        "id": "u3PMJOP6ngxN"
      }
    },
    {
      "cell_type": "code",
      "source": [
        "# Check Unique Values for each variable.\n",
        "for i in data.columns.tolist():\n",
        "  print(\"No. of unique values in\",i,\"is\",data[i].nunique())"
      ],
      "metadata": {
        "id": "zms12Yq5n-jE"
      },
      "execution_count": null,
      "outputs": []
    },
    {
      "cell_type": "markdown",
      "source": [
        "## 3. ***Data Wrangling***"
      ],
      "metadata": {
        "id": "dauF4eBmngu3"
      }
    },
    {
      "cell_type": "markdown",
      "source": [
        "### Data Wrangling Code"
      ],
      "metadata": {
        "id": "bKJF3rekwFvQ"
      }
    },
    {
      "cell_type": "code",
      "source": [
        "# Write your code to make your dataset analysis ready.\n",
        "# Before doing any data wrangling lets create copy of the dataset\n",
        "data_2 = data.copy()"
      ],
      "metadata": {
        "id": "wk-9a2fpoLcV"
      },
      "execution_count": null,
      "outputs": []
    },
    {
      "cell_type": "code",
      "source": [
        "# Check for how many customer leave the company (Churn)\n",
        "churn = pd.DataFrame(data_2['Churn'].value_counts())\n",
        "churn['Churn Rate'] = round(churn*100/len(data_2),2)\n",
        "churn"
      ],
      "metadata": {
        "id": "ddUWNuMj-G6H"
      },
      "execution_count": null,
      "outputs": []
    },
    {
      "cell_type": "code",
      "source": [
        "# Lets check churn rate area code wise\n",
        "churn_area = pd.DataFrame(data_2.groupby('Area code')['Churn'].value_counts())\n",
        "churn_area['churn rate'] = round(churn_area*100/len(data_2),2)\n",
        "churn_area"
      ],
      "metadata": {
        "id": "-RamNM0Z-H-v"
      },
      "execution_count": null,
      "outputs": []
    },
    {
      "cell_type": "code",
      "source": [
        "#Lets check the statistical value(mean, median) of all feature of area code wise\n",
        "def get_mean_median(data,area_code):\n",
        "  ''' This fuction gives mean and median of all features'''\n",
        "  try:\n",
        "    return pd.concat([data_2[data_2['Area code']==area_code].describe().round(2).iloc[1],\n",
        "          data_2[data_2['Area code']==area_code].describe().round(2).iloc[5]], axis = 1).rename(columns={'50%':'Median'})\n",
        "  except:\n",
        "    print(\"Invalid Area code\")"
      ],
      "metadata": {
        "id": "Brq-Wg5k-H0v"
      },
      "execution_count": null,
      "outputs": []
    },
    {
      "cell_type": "code",
      "source": [
        "# For areacode 408\n",
        "get_mean_median(data_2,408)"
      ],
      "metadata": {
        "id": "CKwPQs9O-Hxs"
      },
      "execution_count": null,
      "outputs": []
    },
    {
      "cell_type": "code",
      "source": [
        "#For areacode = 415\n",
        "get_mean_median(data_2,415)"
      ],
      "metadata": {
        "id": "PAeJNRZx-Huv"
      },
      "execution_count": null,
      "outputs": []
    },
    {
      "cell_type": "code",
      "source": [
        "#For areacode = 510\n",
        "get_mean_median(data_2,510)"
      ],
      "metadata": {
        "id": "jbOeNRBm-HsF"
      },
      "execution_count": null,
      "outputs": []
    },
    {
      "cell_type": "code",
      "source": [
        "# Churn count by statewise\n",
        "churn_state = pd.DataFrame(data_2.groupby('State')['Churn'].value_counts()).rename(columns = {'Churn':'Count of Churn'})\n",
        "churn_state"
      ],
      "metadata": {
        "id": "IaKe1QIr-HpS"
      },
      "execution_count": null,
      "outputs": []
    },
    {
      "cell_type": "code",
      "source": [
        "# Lets check churn on the basis of International plan\n",
        "churn_int = pd.DataFrame(data_2.groupby('International plan')['Churn'].value_counts())\n",
        "churn_int['churn rate'] = round(churn_int*100/len(data_2),2)\n",
        "churn_int"
      ],
      "metadata": {
        "id": "0gum5e4q-Hmv"
      },
      "execution_count": null,
      "outputs": []
    },
    {
      "cell_type": "code",
      "source": [
        "#Lets check churn on the basis of Voice mail plan\n",
        "churn_vmail = pd.DataFrame(data_2.groupby('Voice mail plan')['Churn'].value_counts())\n",
        "churn_vmail['churn rate'] = round(churn_vmail*100/len(data_2),2)\n",
        "churn_vmail"
      ],
      "metadata": {
        "id": "0UWUcLxq-Hj9"
      },
      "execution_count": null,
      "outputs": []
    },
    {
      "cell_type": "code",
      "source": [
        "# Lets check the churn customers who are having both International and voice mail plan\n",
        "churn_vmail_iplan = pd.DataFrame(data_2.groupby((data_2['International plan']=='Yes') & (data_2['Voice mail plan']=='Yes'))['Churn'].value_counts()).rename(columns={'Churn':'Churn_count'}).iloc[2:4]\n",
        "churn_vmail_iplan['rate'] = round(churn_vmail_iplan*100/len(data_2),2)\n",
        "churn_vmail_iplan"
      ],
      "metadata": {
        "id": "BecQeaz5AGLJ"
      },
      "execution_count": null,
      "outputs": []
    },
    {
      "cell_type": "code",
      "source": [
        "# Lets check the churn customers who are having International plan but not the voice mail plan\n",
        "churn_novmail_iplan = pd.DataFrame(data_2.groupby((data_2['International plan']=='Yes') & (data_2['Voice mail plan']=='No'))['Churn'].value_counts()).rename(columns={'Churn':'Churn_count'}).iloc[2:4]\n",
        "churn_novmail_iplan['rate'] = round(churn_novmail_iplan*100/len(data_2),2)\n",
        "churn_novmail_iplan"
      ],
      "metadata": {
        "id": "MRx7wMwjAGIi"
      },
      "execution_count": null,
      "outputs": []
    },
    {
      "cell_type": "code",
      "source": [
        "# Lets check the churn customers who are not having International plan but have voice mail plan\n",
        "churn_vmail_noiplan = pd.DataFrame(data_2.groupby((data_2['International plan']=='No') & (data_2['Voice mail plan']=='Yes'))['Churn'].value_counts()).rename(columns={'Churn':'Churn_count'}).iloc[2:4]\n",
        "churn_vmail_noiplan['rate'] = round(churn_vmail_noiplan*100/len(data_2),2)\n",
        "churn_vmail_noiplan"
      ],
      "metadata": {
        "id": "BwKIV73BAGFW"
      },
      "execution_count": null,
      "outputs": []
    },
    {
      "cell_type": "code",
      "source": [
        "# Lets check the churn customers who are neither having International plan nor have voice mail plan\n",
        "churn_novmail_noiplan = pd.DataFrame(data_2.groupby((data_2['International plan']=='No') & (data_2['Voice mail plan']=='No'))['Churn'].value_counts()).rename(columns={'Churn':'Churn_count'}).iloc[2:4]\n",
        "churn_novmail_noiplan['rate'] = round(churn_novmail_noiplan*100/len(data_2),2)\n",
        "churn_novmail_noiplan"
      ],
      "metadata": {
        "id": "8dnci0GUAGCX"
      },
      "execution_count": null,
      "outputs": []
    },
    {
      "cell_type": "code",
      "source": [
        "print(f'Total customer churn are :{churn.iloc[1,0]}')\n",
        "print(f'Customers with both international and vmail plan :{churn_vmail_iplan.iloc[1,0]}')\n",
        "print(f'Customers with international plan but not vmail plan :{churn_novmail_iplan.iloc[1,0]}')\n",
        "print(f'Customers with no international plan but having vmail plan :{churn_vmail_noiplan.iloc[1,0]}')\n",
        "print(f'Customers with neither international plan nor having vmail plan :{churn_novmail_noiplan.iloc[1,0]}')"
      ],
      "metadata": {
        "id": "yHU_X9V1-G27"
      },
      "execution_count": null,
      "outputs": []
    },
    {
      "cell_type": "markdown",
      "source": [
        "### What all manipulations have you done and insights you found?"
      ],
      "metadata": {
        "id": "MSa1f5Uengrz"
      }
    },
    {
      "cell_type": "markdown",
      "source": [
        "In data wrangling the first thing we did is to find out how customers have churn and how many are not and their rate. We know that plotting charts will give us more visual representation. So from this we got to know that there are ~14.5 % churn customers are there.\n",
        "\n",
        "After that we did some manipulations on basis of area code which we tabularised it.\n",
        "\n",
        "![EDA1.png](data:image/png;base64,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)\n",
        "\n",
        "From above table we can see that more customer are from area code 415 but if we check the distribution of churn it almost same in all area code.\n",
        "\n",
        "**Churn on basis of international plan**\n",
        "\n",
        "In this we found out that those who has international plan their churn rate is higher, almost 42.41 % customers are churned.\n",
        "\n",
        "**Churn on basis of International & Voice mail plan**\n",
        "\n",
        "Total Customer churn are :- 483\n",
        "\n",
        "\n",
        "![EDA3.png](data:image/png;base64,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)\n",
        "\n",
        "So, from this table we can say that those who has neither international plan nor having vmail plan are churned high, almost around 62 %."
      ],
      "metadata": {
        "id": "2Lfm0Eg8uXU8"
      }
    },
    {
      "cell_type": "markdown",
      "source": [
        "## ***4. Data Vizualization, Storytelling & Experimenting with charts : Understand the relationships between variables***"
      ],
      "metadata": {
        "id": "GF8Ens_Soomf"
      }
    },
    {
      "cell_type": "markdown",
      "source": [
        "#### Chart - 1: Visualization of Dependent Variable"
      ],
      "metadata": {
        "id": "0wOQAZs5pc--"
      }
    },
    {
      "cell_type": "code",
      "source": [
        "# Dependant Column Value Counts\n",
        "print(data_2.Churn.value_counts())\n",
        "print(\" \")\n",
        "\n",
        "#color palette selection\n",
        "colors = sns.husl_palette(s=.4)\n",
        "\n",
        "# plotting data on chart\n",
        "plt.figure(figsize=(12,7))\n",
        "explode = [0,0.1]\n",
        "textprops = {'fontsize':13}\n",
        "plt.pie(data['Churn'].value_counts(), labels=['Not Churn(%)','Churn(%)'], colors=colors, explode = explode, autopct=\"%1.1f%%\",textprops = textprops)\n",
        "plt.title('Customer Churn Rate (%)', fontsize=20)\n",
        "\n",
        "# displaying chart\n",
        "plt.show()"
      ],
      "metadata": {
        "id": "7v_ESjsspbW7"
      },
      "execution_count": null,
      "outputs": []
    },
    {
      "cell_type": "markdown",
      "source": [
        "##### 1. Why did you pick the specific chart?"
      ],
      "metadata": {
        "id": "K5QZ13OEpz2H"
      }
    },
    {
      "cell_type": "markdown",
      "source": [
        "Pie charts are generally used to show the proportions of a whole, and are especially useful for displaying data that has already been calculated as a percentage of the whole."
      ],
      "metadata": {
        "id": "XESiWehPqBRc"
      }
    },
    {
      "cell_type": "markdown",
      "source": [
        "##### 2. What is/are the insight(s) found from the chart?"
      ],
      "metadata": {
        "id": "lQ7QKXXCp7Bj"
      }
    },
    {
      "cell_type": "markdown",
      "source": [
        "From the above chart we got to know that, there are 2850 customers which are not churned which is 85.5% of the whole customers data given in the dataset. In other hand, 483 customers are churned which is 14.5 % of the whole customers data given in the dataset.\n",
        "\n",
        "14.5% customers are churned which might look like a small number, but once upon a time the 14.5% was 1.45% which has grown upto 14.5%. So, immediate action should be taken."
      ],
      "metadata": {
        "id": "C_j1G7yiqdRP"
      }
    },
    {
      "cell_type": "markdown",
      "source": [
        "##### 3. Will the gained insights help creating a positive business impact?"
      ],
      "metadata": {
        "id": "448CDAPjqfQr"
      }
    },
    {
      "cell_type": "markdown",
      "source": [
        "In ideal world the customer churn rate in telecom industry is in between 15 % to 20 % . In this we have 14.5 % churn rate which is not high but still churning customer is bad for business.\n",
        "\n",
        "It's easy to loose customers but too difficult to aquire one. One churned cutomer will make 3-4 customers away those might be acquired by your teleservice provider with \"POWER OF WORDS\".\n",
        "\n",
        "So, definitely churn rate insight is very helpful for further decisions."
      ],
      "metadata": {
        "id": "3cspy4FjqxJW"
      }
    },
    {
      "cell_type": "markdown",
      "source": [
        "#### Chart-2: State vs Average true churn percentage"
      ],
      "metadata": {
        "id": "KSlN3yHqYklG"
      }
    },
    {
      "cell_type": "code",
      "source": [
        "# State vs. average true churn percantage visualization code\n",
        "# Vizualizing top 10 churned state\n",
        "plt.figure(figsize=(10,5))\n",
        "bar1 = ((data_2.groupby(['State'])['Churn'].mean()*100).sort_values(ascending = False).reset_index(name=\"Average True Churn \").head(10))\n",
        "plots = sns.barplot(data = bar1, x = 'State', y=\"Average True Churn \")\n",
        "for bar in plots.patches:\n",
        "  plots.annotate(format(bar.get_height(),'.2f'),\n",
        "                   (bar.get_x() + bar.get_width() / 2,\n",
        "                    bar.get_height()), ha='center', va='center',\n",
        "                   size=12, xytext=(0, 8),\n",
        "                   textcoords='offset points')\n",
        "\n",
        "plt.title(\" State with most churn percentage\", fontsize = 20)\n",
        "plt.xlabel('State', fontsize = 15)\n",
        "plt.ylabel('Percentage (%)', fontsize = 15)\n",
        "# Setting limit of the y axis from 0 to 30\n",
        "plt.ylim(0,30)\n",
        "plt.show()"
      ],
      "metadata": {
        "id": "R4YgtaqtYklH"
      },
      "execution_count": null,
      "outputs": []
    },
    {
      "cell_type": "code",
      "source": [
        "# State vs. average true churn percantage visualization code\n",
        "# Vizualizing bottom 10 churned state\n",
        "plt.figure(figsize=(10,5))\n",
        "bar1 = ((data_2.groupby(['State'])['Churn'].mean()*100).sort_values(ascending = True).reset_index(name=\"Average True Churn \").head(10))\n",
        "plots = sns.barplot(data = bar1, x = 'State', y=\"Average True Churn \")\n",
        "for bar in plots.patches:\n",
        "  plots.annotate(format(bar.get_height(),'.2f'),\n",
        "                   (bar.get_x() + bar.get_width() / 2,\n",
        "                    bar.get_height()), ha='center', va='center',\n",
        "                   size=12, xytext=(0, 8),\n",
        "                   textcoords='offset points')\n",
        "plt.title(\" State with least churn percentage\", fontsize = 20)\n",
        "plt.xlabel('State', fontsize = 15)\n",
        "plt.ylabel('Percentage (%)', fontsize = 15)\n",
        "# Setting limit of y axis from 0 to 10\n",
        "plt.ylim(0,10)\n",
        "plt.show()"
      ],
      "metadata": {
        "id": "Q7E0Alw1y_bL"
      },
      "execution_count": null,
      "outputs": []
    },
    {
      "cell_type": "markdown",
      "source": [
        "##### 1. Why did you pick the specific chart?"
      ],
      "metadata": {
        "id": "t6dVpIINYklI"
      }
    },
    {
      "cell_type": "markdown",
      "source": [
        "Bar charts are used to compare the size or frequency of different categories or groups of data. Bar charts are useful for comparing data across different categories, and they can be used to display a large amount of data in a small space.\n",
        "\n",
        "To show the average percentage of true churn with respect to states, we have used Bar Chart."
      ],
      "metadata": {
        "id": "5aaW0BYyYklI"
      }
    },
    {
      "cell_type": "markdown",
      "source": [
        "##### 2. What is/are the insight(s) found from the chart?"
      ],
      "metadata": {
        "id": "ijmpgYnKYklI"
      }
    },
    {
      "cell_type": "markdown",
      "source": [
        "There are 51 states having different churn rates .\n",
        "\n",
        "**CA, NJ ,TX , MD ,SC ,MI, MS, NV, WA, ME** are the ones who have higher churn rate more than 20% which is more than 50% of average churn rate.\n",
        "\n",
        "And **HI, AK, AZ, VA, IA, LA, NE, IL, WI, RI** are the ones who have lower churn rate which is less than 10%."
      ],
      "metadata": {
        "id": "PSx9atu2YklI"
      }
    },
    {
      "cell_type": "markdown",
      "source": [
        "##### 3. Will the gained insights help creating a positive business impact?\n",
        "Are there any insights that lead to negative growth? Justify with specific reason."
      ],
      "metadata": {
        "id": "-JiQyfWJYklI"
      }
    },
    {
      "cell_type": "markdown",
      "source": [
        "\n",
        "Yes, the data of state wise churning depicts that there are lot of states who are having average churn rate more than 20 % which needs to be studied and look for further analysis to decide which factor are causing the churn"
      ],
      "metadata": {
        "id": "BcBbebzrYklV"
      }
    },
    {
      "cell_type": "markdown",
      "source": [
        "#### Chart - 3: Column wise Histogram and Box Plot (Univariate)"
      ],
      "metadata": {
        "id": "EM7whBJCYoAo"
      }
    },
    {
      "cell_type": "code",
      "source": [
        "# Visualizing code of histogram plot & boxplot for each columns to know the data distribution\n",
        "for col in data_2.describe().columns:\n",
        "    fig,axes = plt.subplots(nrows=1,ncols=2,figsize=(18,6))\n",
        "    sns.histplot(data_2[col], ax = axes[0],kde = True)\n",
        "    sns.boxplot(data_2[col], ax = axes[1],orient='h',showmeans=True,color='pink')\n",
        "    fig.suptitle(\"Distribution plot of \"+ col, fontsize = 15)\n",
        "    plt.show()"
      ],
      "metadata": {
        "id": "t6GMdE67YoAp"
      },
      "execution_count": null,
      "outputs": []
    },
    {
      "cell_type": "markdown",
      "source": [
        "##### 1. Why did you pick the specific chart?"
      ],
      "metadata": {
        "id": "fge-S5ZAYoAp"
      }
    },
    {
      "cell_type": "markdown",
      "source": [
        "A histplot is a type of chart that displays the distribution of a dataset. It is a graphical representation of the data that shows how often each value or group of values occurs. Histplots are useful for understanding the distribution of a dataset and identifying patterns or trends in the data. It is also useful when dealing with large data sets (greater than 100 observations). It can help detect any unusual observations (outliers) or any gaps in the data.\n",
        "\n",
        "Thus, I used the histogram plot to analysis the variable distributions over the whole dataset whether it's symmetric or not.\n",
        "\n",
        "A boxplot is used to summarize the key statistical characteristics of a dataset, including the median, quartiles, and range, in a single plot. Boxplots are useful for identifying the presence of outliers in a dataset, comparing the distribution of multiple datasets, and understanding the dispersion of the data. They are often used in statistical analysis and data visualization.\n",
        "\n",
        "Thus, for each numerical varibale in the given dataset, I used box plot to analyse the outliers and interquartile range including mean, median, maximum and minimum value."
      ],
      "metadata": {
        "id": "5dBItgRVYoAp"
      }
    },
    {
      "cell_type": "markdown",
      "source": [
        "##### 2. What is/are the insight(s) found from the chart?"
      ],
      "metadata": {
        "id": "85gYPyotYoAp"
      }
    },
    {
      "cell_type": "markdown",
      "source": [
        "From above distribution charts we can see that, all columns are symmetric distributed and mean is nearly same with median for numerical columns. Here Area code will be treated as categorical value as there are only 3 values in the particular column."
      ],
      "metadata": {
        "id": "4jstXR6OYoAp"
      }
    },
    {
      "cell_type": "markdown",
      "source": [
        "##### 3. Will the gained insights help creating a positive business impact?\n",
        "Are there any insights that lead to negative growth? Justify with specific reason."
      ],
      "metadata": {
        "id": "RoGjAbkUYoAp"
      }
    },
    {
      "cell_type": "markdown",
      "source": [
        "\n",
        "Histogram and Box plot cannot give us whole information regarding data. It's done just to see the distribution of the column data over the dataset."
      ],
      "metadata": {
        "id": "zfJ8IqMcYoAp"
      }
    },
    {
      "cell_type": "markdown",
      "source": [
        "#### Chart - 4: Account Length with Churn"
      ],
      "metadata": {
        "id": "4Of9eVA-YrdM"
      }
    },
    {
      "cell_type": "code",
      "source": [
        "# One Digit Account Length\n",
        "one_length = data_2[data_2['Account length']<=9].loc[:,['Churn']].value_counts()\n",
        "print(one_length)\n",
        "print(\" \")\n",
        "\n",
        "# Visualizing One Digit Account Length Based on Churn percentage\n",
        "#color palette selection\n",
        "colors = sns.color_palette('pastel')[0:7]\n",
        "textprops = {'fontsize':13}\n",
        "\n",
        "plt.figure(figsize=(15,7))\n",
        "# plotting pie chart\n",
        "plt.pie(one_length, labels=['Not Churn(%)','Churn(%)'], startangle=90, colors=colors, autopct=\"%1.1f%%\",textprops = textprops)\n",
        "plt.title('One Digit Account Length churn rate', fontsize=18)\n",
        "plt.show()"
      ],
      "metadata": {
        "id": "irlUoxc8YrdO"
      },
      "execution_count": null,
      "outputs": []
    },
    {
      "cell_type": "code",
      "source": [
        "# Two Digit Account Length\n",
        "two_account=data_2[(data_2['Account length']<=99) & (data_2['Account length']>=10)].loc[:,['Churn']].value_counts()\n",
        "print(two_account)\n",
        "print(\" \")\n",
        "\n",
        "# Visualizing Two Digit Account Length Based on Churn percentage\n",
        "#color palette selection\n",
        "colors = sns.color_palette('pastel')[0:7]\n",
        "textprops = {'fontsize':13}\n",
        "\n",
        "plt.figure(figsize=(15,7))\n",
        "# plotting pie chart\n",
        "plt.pie(two_account, labels=['Not Churn(%)','Churn(%)'], startangle=90, colors=colors, autopct=\"%1.1f%%\", textprops = textprops)\n",
        "plt.title('Two Digit Account Length churn rate', fontsize=18)\n",
        "plt.show()"
      ],
      "metadata": {
        "id": "XLztrB6l0imb"
      },
      "execution_count": null,
      "outputs": []
    },
    {
      "cell_type": "code",
      "source": [
        "# Three Digit Account Length\n",
        "three_account=data_2[(data_2['Account length']<=data_2['Account length'].max()) & (data_2['Account length']>=100)].loc[:,['Churn']].value_counts()\n",
        "print(three_account)\n",
        "print(\" \")\n",
        "\n",
        "# Visualizing Three Digit Account Length Based on Churn percentage\n",
        "#color palette selection\n",
        "colors = sns.color_palette('pastel')[0:7]\n",
        "textprops = {'fontsize':13}\n",
        "\n",
        "plt.figure(figsize=(15,7))\n",
        "# plotting data on chart using seaborn\n",
        "plt.pie(three_account, labels=['Not Churn(%)','Churn(%)'],startangle=90 , colors=colors, autopct=\"%1.1f%%\",textprops = textprops)\n",
        "plt.title('Three Digit Account Length churn rate', fontsize=18)\n",
        "plt.show()"
      ],
      "metadata": {
        "id": "JGThe1V-0nuD"
      },
      "execution_count": null,
      "outputs": []
    },
    {
      "cell_type": "code",
      "source": [
        "# Box Plot for Account Length attribute\n",
        "plt.figure(figsize=(10,8))\n",
        "sns.boxplot(data=data_2, x='Churn', y='Account length', showmeans = True)\n",
        "plt.title('Account Length Boxplot with Churn', fontsize=18)\n",
        "plt.show()"
      ],
      "metadata": {
        "id": "7U2S0mKu0rxl"
      },
      "execution_count": null,
      "outputs": []
    },
    {
      "cell_type": "markdown",
      "source": [
        "##### 1. Why did you pick the specific chart?"
      ],
      "metadata": {
        "id": "iky9q4vBYrdO"
      }
    },
    {
      "cell_type": "markdown",
      "source": [
        "Pie charts are generally used to show the proportions of a whole, and are especially useful for displaying data that has already been calculated as a percentage of the whole.\n",
        "\n",
        "So, I used Pie chart and which helped me to get the percentage comparision of the churn percentage account length wise.\n",
        "\n",
        "A boxplot is used to summarize the key statistical characteristics of a dataset, including the median, quartiles, and range, in a single plot. Boxplots are useful for identifying the presence of outliers in a dataset, comparing the distribution of multiple datasets, and understanding the dispersion of the data. They are often used in statistical analysis and data visualization.\n",
        "\n",
        "So, I used box plot to get the maximum and minimum value with well sagreggated outliers with well defined mean and median as shown in the box plot graph"
      ],
      "metadata": {
        "id": "aJRCwT6DYrdO"
      }
    },
    {
      "cell_type": "markdown",
      "source": [
        "##### 2. What is/are the insight(s) found from the chart?"
      ],
      "metadata": {
        "id": "F6T5p64dYrdO"
      }
    },
    {
      "cell_type": "markdown",
      "source": [
        "**Account Length**\n",
        "\n",
        "We can catagories Account Length into three catagories like\n",
        "\n",
        "![EDA3.png](data:image/png;base64,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)\n",
        "\n",
        "**REMARK**\n",
        "\n",
        "As from the above record, we can see that Two digit Account Length customers are churning with a number of 225 and Three digit Account Length customers are churning with a number of 256.\n",
        "\n",
        "So, their churning rate is high."
      ],
      "metadata": {
        "id": "Xx8WAJvtYrdO"
      }
    },
    {
      "cell_type": "markdown",
      "source": [
        "##### 3. Will the gained insights help creating a positive business impact?\n",
        "Are there any insights that lead to negative growth? Justify with specific reason."
      ],
      "metadata": {
        "id": "y-Ehk30pYrdP"
      }
    },
    {
      "cell_type": "markdown",
      "source": [
        "\n",
        "Account length is the no. of days the customers are active. So for the new customers those churning rate is too low around 8.3% in percentage and number is 2. They might be just using the telecom service to experience the benefits and they might not be satisfied with the service provided and churned.\n",
        "\n",
        "Those people whose account length are between 10 to 99 are having a churning rate of 14%. The customers below 50 might be treated as new customers and more than 55 and less than 99 they might not be geting benefits from plan taken.\n",
        "\n",
        "Those people whose account length is more than 100 are like old customers and they might be churning due to no additional offers given to them like power plus plan or other benefits.\n",
        "\n",
        "So, yes Account Length is also depicting a clear view of churing reasons and insights."
      ],
      "metadata": {
        "id": "jLNxxz7MYrdP"
      }
    },
    {
      "cell_type": "markdown",
      "source": [
        "#### Chart - 5: International Plan"
      ],
      "metadata": {
        "id": "bamQiAODYuh1"
      }
    },
    {
      "cell_type": "code",
      "source": [
        "# data for international plan\n",
        "inter_plan = data_2['International plan'].value_counts()\n",
        "print(inter_plan)\n",
        "print(\" \")\n",
        "\n",
        "# Visualizing Percentage of customers taken international plan\n",
        "#color palette selection\n",
        "colors = sns.color_palette('husl')[0:7]\n",
        "textprops = {'fontsize':13}\n",
        "\n",
        "plt.figure(figsize=(15,7))\n",
        "# plotting pie chart\n",
        "plt.pie(inter_plan, labels=['No','Yes'],startangle=90 , colors=colors, autopct=\"%1.1f%%\", textprops = textprops)\n",
        "plt.title('International Plan', fontsize=18)\n",
        "plt.show()"
      ],
      "metadata": {
        "id": "TIJwrbroYuh3"
      },
      "execution_count": null,
      "outputs": []
    },
    {
      "cell_type": "code",
      "source": [
        "# Assigning values for furthur charts\n",
        "i1 = data_2['International plan'].unique()\n",
        "i2 = data_2.groupby('International plan')['Churn'].mean()*100\n",
        "i3 = data_2.groupby(['International plan'])['Total intl charge'].mean()\n",
        "i4 = data_2.groupby([\"Churn\"])['Total intl minutes'].mean()"
      ],
      "metadata": {
        "id": "zWtBKTWV9Fv2"
      },
      "execution_count": null,
      "outputs": []
    },
    {
      "cell_type": "code",
      "source": [
        "# Visualizing code for people churning percentage having international plan\n",
        "plt.figure(figsize=(6,7))\n",
        "plots = sns.barplot(x=i1,y=i2)\n",
        "for bar in plots.patches:\n",
        "  plots.annotate(format(bar.get_height(),'.2f'),\n",
        "                   (bar.get_x() + bar.get_width() / 2,\n",
        "                    bar.get_height()), ha='center', va='center',\n",
        "                   size=12, xytext=(0, 8),\n",
        "                   textcoords='offset points')\n",
        "\n",
        "plt.title(\" Percentage of customer churn on basis of International plan\", fontsize = 20)\n",
        "plt.xlabel('International plan', fontsize = 15)\n",
        "plt.ylabel('Percentage (%)', fontsize = 15)\n",
        "plt.ylim(0,45)\n",
        "plt.show()"
      ],
      "metadata": {
        "id": "xY1PFAQh9IEE"
      },
      "execution_count": null,
      "outputs": []
    },
    {
      "cell_type": "code",
      "source": [
        "# Visualizing code for average calling charge of customers having international plan\n",
        "plt.figure(figsize=(6,7))\n",
        "plots = sns.barplot(x=i1,y=i3)\n",
        "for bar in plots.patches:\n",
        "  plots.annotate(format(bar.get_height(),'.2f'),\n",
        "                   (bar.get_x() + bar.get_width() / 2,\n",
        "                    bar.get_height()), ha='center', va='center',\n",
        "                   size=12, xytext=(0, 8),\n",
        "                   textcoords='offset points')\n",
        "plt.title(\" Average charges on the basis of International plan\", fontsize = 20)\n",
        "plt.xlabel('International plan', fontsize = 15)\n",
        "plt.ylabel('Charges', fontsize = 15)\n",
        "plt.ylim(0,3.5)\n",
        "plt.show()"
      ],
      "metadata": {
        "id": "1sl_8FGg9PUB"
      },
      "execution_count": null,
      "outputs": []
    },
    {
      "cell_type": "code",
      "source": [
        "# Visualizing code for average minutes talked by customers having international plan\n",
        "plt.figure(figsize=(6,7))\n",
        "plots = sns.barplot(x=i1,y=i4)\n",
        "for bar in plots.patches:\n",
        "  plots.annotate(format(bar.get_height(),'.2f'),\n",
        "                   (bar.get_x() + bar.get_width() / 2,\n",
        "                    bar.get_height()), ha='center', va='center',\n",
        "                   size=12, xytext=(0, 8),\n",
        "                   textcoords='offset points')\n",
        "plt.title(\" Average International minutes on basis of international plan\", fontsize = 20)\n",
        "plt.xlabel('International Plan', fontsize = 15)\n",
        "plt.ylabel('Minutes', fontsize = 15)\n",
        "plt.ylim(0,12)\n",
        "plt.show()"
      ],
      "metadata": {
        "id": "D8QXmEry9UTt"
      },
      "execution_count": null,
      "outputs": []
    },
    {
      "cell_type": "markdown",
      "source": [
        "##### 1. Why did you pick the specific chart?"
      ],
      "metadata": {
        "id": "QHF8YVU7Yuh3"
      }
    },
    {
      "cell_type": "markdown",
      "source": [
        "Pie charts are generally used to show the proportions of a whole, and are especially useful for displaying data that has already been calculated as a percentage of the whole.\n",
        "\n",
        "Thus, we used to show the percentage of people taken international plan through pie chart with different colored area under a circle.\n",
        "\n",
        "Bar charts are used to compare the size or frequency of different categories or groups of data. Bar charts are useful for comparing data across different categories, and they can be used to display a large amount of data in a small space.\n",
        "\n",
        "Thus, we used bar chart to show the percentage of customers churned having international plan and the average calling charge as well as conversation average minutes of customers those have international plan."
      ],
      "metadata": {
        "id": "dcxuIMRPYuh3"
      }
    },
    {
      "cell_type": "markdown",
      "source": [
        "##### 2. What is/are the insight(s) found from the chart?"
      ],
      "metadata": {
        "id": "GwzvFGzlYuh3"
      }
    },
    {
      "cell_type": "markdown",
      "source": [
        "**INTERNATIONAL PLAN**\n",
        "\n",
        "In this analysis, 3010 dont have an international plan, 323 have an international plan.\n",
        "\n",
        "Among those who have an international plan, 42.4 % people churn.\n",
        "\n",
        "Whereas among those who dont have an international plan, only 11.4 % people churn.\n",
        "\n",
        "Among those who have a international plan their average charge is 2.87 and they talk for 10.7 minutes on an average.\n",
        "\n",
        "Whereas among those who dont have a international plan their average charge is 2.75 and they talk for 10.16 minutes on an average.\n",
        "\n",
        "The reason why people having international plan might be leaving is that they are paying same amount of money for international calls as for those customers who dont have a international plan. Hence they arent getting any benefits for having an international plan so they might be unhappy."
      ],
      "metadata": {
        "id": "uyqkiB8YYuh3"
      }
    },
    {
      "cell_type": "markdown",
      "source": [
        "##### 3. Will the gained insights help creating a positive business impact?\n",
        "Are there any insights that lead to negative growth? Justify with specific reason."
      ],
      "metadata": {
        "id": "qYpmQ266Yuh3"
      }
    },
    {
      "cell_type": "markdown",
      "source": [
        "Yes, the insights found will definitely help for a positive business impact. Those people who have international plan they are paying some additional charges to get the plan but the talk time value charge is same as those customers having no international plan. That might be great reason for more churns for those having international plan."
      ],
      "metadata": {
        "id": "_WtzZ_hCYuh4"
      }
    },
    {
      "cell_type": "markdown",
      "source": [
        "#### Chart - 6: Voice Mail"
      ],
      "metadata": {
        "id": "OH-pJp9IphqM"
      }
    },
    {
      "cell_type": "code",
      "source": [
        "# data for voice mail plan\n",
        "voice = data_2['Voice mail plan'].value_counts()\n",
        "\n",
        "# vizualizing code for customers percentage having voice mail plan\n",
        "\n",
        "#color palette selection\n",
        "palette_color = sns.color_palette('pastel')\n",
        "textprops = {'fontsize':13}\n",
        "\n",
        "# plotting chart of voice mail\n",
        "plt.figure(figsize=(9,7))\n",
        "plt.pie(voice, labels=['No','Yes'],startangle=90 , colors=palette_color, autopct=\"%1.1f%%\",textprops = textprops)\n",
        "plt.title('Distribution of customers having voice mail plan', fontsize=18)\n",
        "plt.show()"
      ],
      "metadata": {
        "id": "kuRf4wtuphqN"
      },
      "execution_count": null,
      "outputs": []
    },
    {
      "cell_type": "code",
      "source": [
        "# Vizualizing code for customers churning while having voice mail plan\n",
        "\n",
        "cc1=list(['no','yes'])\n",
        "cc2=data_2.groupby('Voice mail plan')['Churn'].mean()*100\n",
        "\n",
        "plt.figure(figsize=(6,8))\n",
        "plots = sns.barplot(x=cc1,y=cc2)\n",
        "for bar in plots.patches:\n",
        "  plots.annotate(format(bar.get_height(),'.2f'),\n",
        "                   (bar.get_x() + bar.get_width() / 2,\n",
        "                    bar.get_height()), ha='center', va='center',\n",
        "                   size=12, xytext=(0, 8),\n",
        "                   textcoords='offset points')\n",
        "\n",
        "plt.title(\" Percentage of customer churn on basis of voice mail plan\", fontsize = 20)\n",
        "plt.xlabel('Voice mail plan', fontsize = 15)\n",
        "plt.ylabel('Percentage (%)', fontsize = 15)\n",
        "plt.show()"
      ],
      "metadata": {
        "id": "loupKklg4SY4"
      },
      "execution_count": null,
      "outputs": []
    },
    {
      "cell_type": "markdown",
      "source": [
        "##### 1. Why did you pick the specific chart?"
      ],
      "metadata": {
        "id": "bbFf2-_FphqN"
      }
    },
    {
      "cell_type": "markdown",
      "source": [
        "Pie charts are generally used to show the proportions of a whole, and are especially useful for displaying data that has already been calculated as a percentage of the whole.\n",
        "\n",
        "Thus, we have used pie chart to show the percentage of customers having voice mail plan.\n",
        "\n",
        "Bar charts are used to compare the size or frequency of different categories or groups of data. Bar charts are useful for comparing data across different categories, and they can be used to display a large amount of data in a small space.\n",
        "\n",
        "Thus, we have used bar chart to show the percentage of customers churned having voice mail plan."
      ],
      "metadata": {
        "id": "loh7H2nzphqN"
      }
    },
    {
      "cell_type": "markdown",
      "source": [
        "##### 2. What is/are the insight(s) found from the chart?"
      ],
      "metadata": {
        "id": "_ouA3fa0phqN"
      }
    },
    {
      "cell_type": "markdown",
      "source": [
        "**VOICE MAIL**\n",
        "\n",
        "2411 dont have a voice mail plan\n",
        "\n",
        "922 have a voice mail plan\n",
        "\n",
        "Among those who dont have a voice mail 16.7 % people churn.\n",
        "\n",
        "Whereas among those who have a voice mail plan only 8.7 % people churn.\n",
        "\n",
        "**Customers with the Voice Mail Plan tend to churn less frequently**"
      ],
      "metadata": {
        "id": "VECbqPI7phqN"
      }
    },
    {
      "cell_type": "markdown",
      "source": [
        "##### 3. Will the gained insights help creating a positive business impact?\n",
        "Are there any insights that lead to negative growth? Justify with specific reason."
      ],
      "metadata": {
        "id": "Seke61FWphqN"
      }
    },
    {
      "cell_type": "markdown",
      "source": [
        "Yes, voice mail plan might be considered partially."
      ],
      "metadata": {
        "id": "DW4_bGpfphqN"
      }
    },
    {
      "cell_type": "markdown",
      "source": [
        "#### Chart - 7:  Area Code"
      ],
      "metadata": {
        "id": "PIIx-8_IphqN"
      }
    },
    {
      "cell_type": "code",
      "source": [
        "# Visualizing code for Area Code wise average churn percentage\n",
        "a1= data_2['Area code'].unique()\n",
        "b1= data_2.groupby('Area code')['Churn'].mean()*100\n",
        "\n",
        "plt.figure(figsize=(6,5))\n",
        "plots = sns.barplot(x=a1, y=b1)\n",
        "for bar in plots.patches:\n",
        "  plots.annotate(format(bar.get_height(),'.2f'),\n",
        "                   (bar.get_x() + bar.get_width() / 2,\n",
        "                    bar.get_height()), ha='center', va='center',\n",
        "                   size=12, xytext=(0, 8),\n",
        "                   textcoords='offset points')\n",
        "plt.title('Area Code vs Churn Percantage',fontsize=20)\n",
        "plt.xlabel('Area code', fontsize = 15)\n",
        "plt.ylabel('Churn percentage (%)', fontsize = 15)\n",
        "plt.ylim(0,17)\n",
        "plt.show()"
      ],
      "metadata": {
        "id": "lqAIGUfyphqO"
      },
      "execution_count": null,
      "outputs": []
    },
    {
      "cell_type": "markdown",
      "source": [
        "##### 1. Why did you pick the specific chart?"
      ],
      "metadata": {
        "id": "t27r6nlMphqO"
      }
    },
    {
      "cell_type": "markdown",
      "source": [
        "Bar charts are used to compare the size or frequency of different categories or groups of data. Bar charts are useful for comparing data across different categories, and they can be used to display a large amount of data in a small space.\n",
        "\n",
        "To show the average percentage of true churn with respect to Area Code, we have used Bar Chart."
      ],
      "metadata": {
        "id": "iv6ro40sphqO"
      }
    },
    {
      "cell_type": "markdown",
      "source": [
        "##### 2. What is/are the insight(s) found from the chart?"
      ],
      "metadata": {
        "id": "r2jJGEOYphqO"
      }
    },
    {
      "cell_type": "markdown",
      "source": [
        "All Area Code have around 14% Churn rate. So, Area Code doesn't matter."
      ],
      "metadata": {
        "id": "Po6ZPi4hphqO"
      }
    },
    {
      "cell_type": "markdown",
      "source": [
        "##### 3. Will the gained insights help creating a positive business impact?\n",
        "Are there any insights that lead to negative growth? Justify with specific reason."
      ],
      "metadata": {
        "id": "b0JNsNcRphqO"
      }
    },
    {
      "cell_type": "markdown",
      "source": [
        "No, Area Code doesn't have any contribution to churn rate for 14% churn rate is same for all the area codes. But while furthur sagreggating the area codes with respective states in those area code, it can be analysed the states in which the issue is happeing. So, it has been defined above.\n",
        "\n",
        "So, here Area code won't help to create business impact but the respective states wise analysis can help."
      ],
      "metadata": {
        "id": "xvSq8iUTphqO"
      }
    },
    {
      "cell_type": "markdown",
      "source": [
        "#### Chart - 8 : Overall Calls"
      ],
      "metadata": {
        "id": "BZR9WyysphqO"
      }
    },
    {
      "cell_type": "code",
      "source": [
        "# Average of total day calls, total day minutes & total day charge of churn\n",
        "cn_dcalls = pd.DataFrame(data_2.groupby([\"Churn\"])['Total day calls'].mean())\n",
        "print(cn_dcalls)\n",
        "print('')\n",
        "cn_dm = pd.DataFrame(data_2.groupby([\"Churn\"])['Total day minutes'].mean())\n",
        "print(cn_dm)\n",
        "print('')\n",
        "cn_dc = pd.DataFrame(data_2.groupby([\"Churn\"])['Total day charge'].mean())\n",
        "print(cn_dc)"
      ],
      "metadata": {
        "id": "TdPTWpAVphqO"
      },
      "execution_count": null,
      "outputs": []
    },
    {
      "cell_type": "code",
      "source": [
        "# Vizualizing Total day minutes vs total day charge\n",
        "plt.figure(figsize=(7,8))\n",
        "sns.scatterplot(data=data_2, x=\"Total day minutes\", y=\"Total day charge\", hue=\"Churn\")\n",
        "plt.title('Total Day Minutes, vs Total Day Charge', fontsize=18)\n",
        "plt.xlabel('Total day minutes',fontsize = 13)\n",
        "plt.ylabel('Total day charges',fontsize = 13)\n",
        "plt.show()"
      ],
      "metadata": {
        "id": "Ot_xfBs46ecG"
      },
      "execution_count": null,
      "outputs": []
    },
    {
      "cell_type": "code",
      "source": [
        "# Average of total eve calls, total eve minutes & total evening charge of churn\n",
        "cn_ecalls = pd.DataFrame(data_2.groupby([\"Churn\"])['Total eve calls'].mean())\n",
        "print(cn_ecalls)\n",
        "print(\" \")\n",
        "cn_em = pd.DataFrame(data_2.groupby([\"Churn\"])['Total eve minutes'].mean())\n",
        "print(cn_em)\n",
        "print(\" \")\n",
        "cn_ec = pd.DataFrame(data_2.groupby([\"Churn\"])['Total eve charge'].mean())\n",
        "print(cn_ec)"
      ],
      "metadata": {
        "id": "14t-zLMN6ian"
      },
      "execution_count": null,
      "outputs": []
    },
    {
      "cell_type": "code",
      "source": [
        "# Vizualizing total evening minutes vs total evening charge\n",
        "plt.figure(figsize=(7,8))\n",
        "sns.scatterplot(x=\"Total eve minutes\", y=\"Total eve charge\", hue=\"Churn\", data=data_2)\n",
        "plt.title('Total evening minutes vs Total evening charge', fontsize=18)\n",
        "plt.xlabel('Total eve minutes',fontsize = 13)\n",
        "plt.ylabel('Total eve charges',fontsize = 13)\n",
        "plt.show()"
      ],
      "metadata": {
        "id": "3x_fc5o46kqc"
      },
      "execution_count": null,
      "outputs": []
    },
    {
      "cell_type": "code",
      "source": [
        "# Average of total night calls, total night minutes & total night charge of churn\n",
        "cn_ncalls = pd.DataFrame(data_2.groupby([\"Churn\"])['Total night calls'].mean())\n",
        "print(cn_ncalls)\n",
        "print(\" \")\n",
        "cn_nm = pd.DataFrame(data_2.groupby([\"Churn\"])['Total night minutes'].mean())\n",
        "print(cn_nm)\n",
        "print(\" \")\n",
        "cn_nc = pd.DataFrame(data_2.groupby([\"Churn\"])['Total night charge'].mean())\n",
        "print(cn_nc)"
      ],
      "metadata": {
        "id": "66wvS9O76rZi"
      },
      "execution_count": null,
      "outputs": []
    },
    {
      "cell_type": "code",
      "source": [
        "# Vizualizing Total night minutes vs total night charge\n",
        "plt.figure(figsize=(7,8))\n",
        "sns.scatterplot(x=\"Total night minutes\", y=\"Total night charge\", hue=\"Churn\", data=data_2)\n",
        "plt.title('Total night minutes vs Total night charge', fontsize=18)\n",
        "plt.xlabel('Total night minutes',fontsize = 13)\n",
        "plt.ylabel('Total night charges',fontsize = 13)\n",
        "plt.show()"
      ],
      "metadata": {
        "id": "O58dguML6rL0"
      },
      "execution_count": null,
      "outputs": []
    },
    {
      "cell_type": "code",
      "source": [
        "# Table of average calls of total day, eve & night on basis of churn\n",
        "cn_calls = pd.merge(pd.merge(cn_dcalls,cn_ecalls, on = 'Churn'),cn_ncalls,on = 'Churn').round(2).T\n",
        "cn_calls"
      ],
      "metadata": {
        "id": "gdQasNsC6zA4"
      },
      "execution_count": null,
      "outputs": []
    },
    {
      "cell_type": "code",
      "source": [
        "# Bar plot of above table\n",
        "plt.figure(figsize=(9,6))\n",
        "cn_calls.plot(kind='bar',ylabel='mean')\n",
        "plt.title('Average of calls on the basis of churn', fontsize=18)\n",
        "plt.xlabel(\"calls\", fontsize = 13)\n",
        "plt.ylabel('Average of Calls',fontsize = 13)\n",
        "plt.show()"
      ],
      "metadata": {
        "id": "dhYLet266y9I"
      },
      "execution_count": null,
      "outputs": []
    },
    {
      "cell_type": "code",
      "source": [
        "# Table of average minutes of total day, eve & night on basis of churn\n",
        "cn_minutes = pd.merge(pd.merge(cn_dm,cn_em, on = 'Churn'),cn_nm,on = 'Churn').round(2).T\n",
        "cn_minutes"
      ],
      "metadata": {
        "id": "VesHq4hY6y5d"
      },
      "execution_count": null,
      "outputs": []
    },
    {
      "cell_type": "code",
      "source": [
        "# Bar plot of above table\n",
        "plt.figure(figsize=(9,6))\n",
        "cn_minutes.plot(kind='bar',ylabel='mean')\n",
        "plt.title('Average of minutes on the basis of churn', fontsize=18)\n",
        "plt.xlabel(\"minutes\", fontsize = 13)\n",
        "plt.ylabel('Average of minutes',fontsize = 13)\n",
        "plt.show()"
      ],
      "metadata": {
        "id": "JHVEDu3D6y1T"
      },
      "execution_count": null,
      "outputs": []
    },
    {
      "cell_type": "code",
      "source": [
        "# Table of average charges of total day, eve & night on basis of churn\n",
        "cn_charges = pd.merge(pd.merge(cn_dc,cn_ec, on = 'Churn'),cn_nc,on = 'Churn').round(2).T\n",
        "cn_charges"
      ],
      "metadata": {
        "id": "vW3PNvpC6yxe"
      },
      "execution_count": null,
      "outputs": []
    },
    {
      "cell_type": "code",
      "source": [
        "# Bar plot of above table\n",
        "plt.figure(figsize=(9,7))\n",
        "cn_charges.plot(kind='bar',ylabel='mean')\n",
        "plt.title('Average of charges on the basis of churn', fontsize=18)\n",
        "plt.xlabel(\"Charges\", fontsize = 13)\n",
        "plt.ylabel('Average of charges',fontsize = 13)\n",
        "plt.show()"
      ],
      "metadata": {
        "id": "ZIpyXptQ7DGV"
      },
      "execution_count": null,
      "outputs": []
    },
    {
      "cell_type": "markdown",
      "source": [
        "##### 1. Why did you pick the specific chart?"
      ],
      "metadata": {
        "id": "jj7wYXLtphqO"
      }
    },
    {
      "cell_type": "markdown",
      "source": [
        "Scatter plots are used to plot the relationship between two numerical variables. Scatter plots are useful for identifying patterns and trends in data, and they can be used to visualize the relationship between two variables.\n",
        "\n",
        "Thus, we have used the scatter plot to depict the relationship between evening, day & night calls , minutes and charge.\n",
        "\n",
        "Bar charts are used to compare the size or frequency of different categories or groups of data. Bar charts are useful for comparing data across different categories, and they can be used to display a large amount of data in a small space.\n",
        "\n",
        "Thus, we have used the bar plot to show the evening, night and day manipulated data to depict meaningful insights"
      ],
      "metadata": {
        "id": "Ob8u6rCTphqO"
      }
    },
    {
      "cell_type": "markdown",
      "source": [
        "##### 2. What is/are the insight(s) found from the chart?"
      ],
      "metadata": {
        "id": "eZrbJ2SmphqO"
      }
    },
    {
      "cell_type": "markdown",
      "source": [
        "**OVERALL CALLS**\n",
        "\n",
        "Churn customers speak more minutes that non-churn customers at day,evening and night. Hence they pay more charge that non-churn customers.\n",
        "\n",
        "We can retain churn customers if we include master plan. In master plan if a customer is talking more minutes then we can charge a little less amount from him or he can get discount or additional few free minutes to talk.\n",
        "\n",
        "This will make customers who are going to churn happy and they will not leave the company."
      ],
      "metadata": {
        "id": "mZtgC_hjphqO"
      }
    },
    {
      "cell_type": "markdown",
      "source": [
        "##### 3. Will the gained insights help creating a positive business impact?\n",
        "Are there any insights that lead to negative growth? Justify with specific reason."
      ],
      "metadata": {
        "id": "rFu4xreNphqO"
      }
    },
    {
      "cell_type": "markdown",
      "source": [
        "For telecom service provider calling and messaging are two essential product plans. Thus, optimizing voice call plans will definitely create a business impact. Those who are using just calling service must be provided some additional offers either in talktime or powerplus plan. Those who use voice call plan for night only, we might offer some exciting plans from midnight 12 to morning 6. For customers those who have higher accout length should be provided exciting offers as they are our loyal customers. Churing of higher account length customer will have a negative impact on business."
      ],
      "metadata": {
        "id": "ey_0qi68phqO"
      }
    },
    {
      "cell_type": "markdown",
      "source": [
        "#### Chart - 9: Customer Service Calls"
      ],
      "metadata": {
        "id": "YJ55k-q6phqO"
      }
    },
    {
      "cell_type": "code",
      "source": [
        "# data for customer service calls\n",
        "service = pd.DataFrame(data_2.groupby('Customer service calls')['Churn'].mean()*100)\n",
        "\n",
        "# Visualizing churn rate per customer service calls\n",
        "plt.figure(figsize=(12,9))\n",
        "plots = sns.barplot(x=service.index, y=service['Churn'])\n",
        "for bar in plots.patches:\n",
        "  plots.annotate(format(bar.get_height(),'.2f'),\n",
        "                   (bar.get_x() + bar.get_width() / 2,\n",
        "                    bar.get_height()), ha='center', va='center',\n",
        "                   size=12, xytext=(0, 8),\n",
        "                   textcoords='offset points')\n",
        "plt.title(\"Churn rate per service call\", fontsize = 20)\n",
        "plt.xlabel('No of cust service call', fontsize = 15)\n",
        "plt.ylabel('Percentage (%)', fontsize = 15)\n",
        "plt.show()"
      ],
      "metadata": {
        "id": "B2aS4O1ophqO"
      },
      "execution_count": null,
      "outputs": []
    },
    {
      "cell_type": "markdown",
      "source": [
        "##### 1. Why did you pick the specific chart?"
      ],
      "metadata": {
        "id": "gCFgpxoyphqP"
      }
    },
    {
      "cell_type": "markdown",
      "source": [
        "Bar charts are used to compare the size or frequency of different categories or groups of data. Bar charts are useful for comparing data across different categories, and they can be used to display a large amount of data in a small space.\n",
        "\n",
        "Thus, we have used the bar plot to show the relationship between churn rate per customer service calls."
      ],
      "metadata": {
        "id": "TVxDimi2phqP"
      }
    },
    {
      "cell_type": "markdown",
      "source": [
        "##### 2. What is/are the insight(s) found from the chart?"
      ],
      "metadata": {
        "id": "OVtJsKN_phqQ"
      }
    },
    {
      "cell_type": "markdown",
      "source": [
        "**CUSTOMER SERVICE CALL**\n",
        "\n",
        "The service calls of customers varies from 0 to 9 .\n",
        "\n",
        "Those customers who make more service calls they have a high probability of leaving.\n",
        "\n",
        "As we can see from graph , customers with more than 5, their churning rate is more.\n",
        "\n",
        "Hence customers who make more than 5 service calls, their queries should be solved immediately and they should be given better service so that they dont leave the company.\n",
        "\n",
        "**Customers with four or more customer service calls churn more than four times as often as do the other customers**"
      ],
      "metadata": {
        "id": "ngGi97qjphqQ"
      }
    },
    {
      "cell_type": "markdown",
      "source": [
        "##### 3. Will the gained insights help creating a positive business impact?\n",
        "Are there any insights that lead to negative growth? Justify with specific reason."
      ],
      "metadata": {
        "id": "lssrdh5qphqQ"
      }
    },
    {
      "cell_type": "markdown",
      "source": [
        "Customer service is an essential factor for every business. So definitely good customer service will have a positive impact to the business. We have to look after the customer calls and customer query report resolution duration. Need to optimize the time period. If one type of issue is coming from more than 5 customers, root cause analysis should be done on that same issue and should be resolved for everyone. Need to reduce the calls for each customer and he should be satisfied in a single call only. The customer service agents should be given great offer or recognition over great performance of customer issue resolution."
      ],
      "metadata": {
        "id": "tBpY5ekJphqQ"
      }
    },
    {
      "cell_type": "markdown",
      "source": [
        "#### Chart - 10 - Correlation Heatmap"
      ],
      "metadata": {
        "id": "NC_X3p0fY2L0"
      }
    },
    {
      "cell_type": "code",
      "source": [
        "# Correlation Heatmap visualization code\n",
        "corr = data_2.corr()\n",
        "mask = np.zeros_like(corr)\n",
        "\n",
        "mask[np.triu_indices_from(mask)] = True\n",
        "\n",
        "with sns.axes_style(\"white\"):\n",
        "    f, ax = plt.subplots(figsize=(18, 9))\n",
        "    ax = sns.heatmap(corr , mask=mask, vmin = -1,vmax=1, annot = True, cmap=\"YlGnBu\")"
      ],
      "metadata": {
        "id": "xyC9zolEZNRQ"
      },
      "execution_count": null,
      "outputs": []
    },
    {
      "cell_type": "markdown",
      "source": [
        "##### 1. Why did you pick the specific chart?"
      ],
      "metadata": {
        "id": "UV0SzAkaZNRQ"
      }
    },
    {
      "cell_type": "markdown",
      "source": [
        "The correlation coefficient is a measure of the strength and direction of a linear relationship between two variables. A correlation matrix is used to summarize the relationships among a set of variables and is an important tool for data exploration and for selecting which variables to include in a model. The range of correlation is [-1,1].\n",
        "\n",
        "Thus to know the correlation between all the variables along with the correlation coeficients, we have used correlation heatmap."
      ],
      "metadata": {
        "id": "DVPuT8LYZNRQ"
      }
    },
    {
      "cell_type": "markdown",
      "source": [
        "##### 2. What is/are the insight(s) found from the chart?"
      ],
      "metadata": {
        "id": "YPEH6qLeZNRQ"
      }
    },
    {
      "cell_type": "markdown",
      "source": [
        "From the above correlation heatmap, we can see total day charge & total day minute, total evening charge & total evening minute, total night charge & total night minute are positiveliy highly correlated with a value of 1.\n",
        "\n",
        "Customer service call is positively correlated only with area code and negative correlated with rest variables.\n",
        "\n",
        "Rest all correlation can be depicted from the above chart."
      ],
      "metadata": {
        "id": "bfSqtnDqZNRR"
      }
    },
    {
      "cell_type": "markdown",
      "source": [
        "#### Chart - 11 - Pair Plot"
      ],
      "metadata": {
        "id": "q29F0dvdveiT"
      }
    },
    {
      "cell_type": "code",
      "source": [
        "# Pair Plot\n",
        "sns.pairplot(data_2, hue=\"Churn\")\n",
        "plt.show()"
      ],
      "metadata": {
        "id": "o58-TEIhveiU"
      },
      "execution_count": null,
      "outputs": []
    },
    {
      "cell_type": "markdown",
      "source": [
        "##### 1. Why did you pick the specific chart?"
      ],
      "metadata": {
        "id": "EXh0U9oCveiU"
      }
    },
    {
      "cell_type": "markdown",
      "source": [
        "A pairplot, also known as a scatterplot matrix, is a visualization that allows you to visualize the relationships between all pairs of variables in a dataset. It is a useful tool for data exploration because it allows you to quickly see how all of the variables in a dataset are related to one another.\n",
        "\n",
        "Thus, we used pair plot to analyse the patterns of data and realationship between the features. It's exactly same as the correlation map but here you will get the graphical representation."
      ],
      "metadata": {
        "id": "eMmPjTByveiU"
      }
    },
    {
      "cell_type": "markdown",
      "source": [
        "##### 2. What is/are the insight(s) found from the chart?"
      ],
      "metadata": {
        "id": "22aHeOlLveiV"
      }
    },
    {
      "cell_type": "markdown",
      "source": [
        "From the above chart we got to know, there are less linear relationship between variables and data points aren't linearly separable. Churned customers data is clustered and ovearlapped each other. Non churn data are quite symmetrical in nature and churned customer data are quite non symmetric in nature. In this whole pair plot, the importance of area code can be seen and the number of churn with respect to different features are really insightful. Rest insights can be depicted from the above graph."
      ],
      "metadata": {
        "id": "uPQ8RGwHveiV"
      }
    },
    {
      "cell_type": "markdown",
      "source": [
        "## **5. Solution to Business Objective**"
      ],
      "metadata": {
        "id": "JcMwzZxoAimU"
      }
    },
    {
      "cell_type": "markdown",
      "source": [
        "#### What do you suggest the client to achieve Business Objective ?\n"
      ],
      "metadata": {
        "id": "8G2x9gOozGDZ"
      }
    },
    {
      "cell_type": "markdown",
      "source": [
        "**Solution to Reduce Customer Churn**\n",
        "\n",
        "* Modify International Plan as the charge is same as normal one.\n",
        "\n",
        "* Be proactive with communication.\n",
        "\n",
        "* Ask for feedback often.\n",
        "\n",
        "* Periodically throw Offers to retain customers.\n",
        "* Look at the customers facing problem in the most churning states.\n",
        "* Lean into best customers.\n",
        "* Regular Server Maintenance.\n",
        "* Solving Poor Network Connectivity Issue.\n",
        "* Define a roadmap for new customers.\n",
        "* Analyze churn when it happens.\n",
        "* Stay competitive."
      ],
      "metadata": {
        "id": "pASKb0qOza21"
      }
    },
    {
      "cell_type": "markdown",
      "source": [
        "# **Conclusion**"
      ],
      "metadata": {
        "id": "gCX9965dhzqZ"
      }
    },
    {
      "cell_type": "markdown",
      "source": [
        "The telecommunications market is already well-established, and the rate of new customers is slow. As a result, companies in this industry prioritize retention and reducing customer churn. This project analyzed a churn dataset to identify the main factors contributing to churn and gain valuable insights. Through exploratory data analysis, we were able to gain insight into the churn dataset, listed below:\n",
        "\n",
        "1. The four charge fields are directly related to the minute fields.\n",
        "\n",
        "2. The area code may not be relevant and can be excluded.\n",
        "\n",
        "3. Customers with the International Plan tend to churn more often.\n",
        "\n",
        "4. Customers who have had four or more customer service calls churn significantly more than other customers.\n",
        "\n",
        "5. Customers with high day and evening minute usage tend to churn at a higher rate.\n",
        "\n",
        "6. There is no clear relationship between churn and the variables such as day calls, evening calls, night calls, international calls, night minutes, international minutes, account length, or voice mail messages."
      ],
      "metadata": {
        "id": "Fjb1IsQkh3yE"
      }
    },
    {
      "cell_type": "markdown",
      "source": [
        "# **END**"
      ],
      "metadata": {
        "id": "gIfDvo9L0UH2"
      }
    }
  ]
}